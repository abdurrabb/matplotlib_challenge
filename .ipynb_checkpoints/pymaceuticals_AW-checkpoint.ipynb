{
 "cells": [
  {
   "cell_type": "markdown",
   "metadata": {},
   "source": [
    "# Observations and Insights "
   ]
  },
  {
   "cell_type": "markdown",
   "metadata": {},
   "source": [
    "### 1. The Pearson correlation coefficient measures how data points move in relationship to one another. For mice treated with Capomuline, the average tumor volume and mouse weight measured a Pearson coefficient of 0.84 (see Fig. 5). The average all drugs was 0.66 (see Fig. 10). It seems, for mice on Capomulin, the larger the mouse, the larger the tumor volume. (see Fig. 6).\n",
    "\n",
    "### 2. Mice on the Capomulin and Ramicane regimens saw an average decrease in tumor volume over 45 days of treatment (see Fig. 3, Fig. 4a, Fig. 7, Fig. 8).\n",
    "\n",
    "### 3. Capomulin and Ramicane were tests on 10-20% more mice than average (see Fig. 1). These two drugs also saw significantly higher Pearson coefficients than the other drugs tested (see Additional Data)."
   ]
  },
  {
   "cell_type": "markdown",
   "metadata": {},
   "source": [
    "# Dependencies and Setup"
   ]
  },
  {
   "cell_type": "code",
   "execution_count": 1,
   "metadata": {},
   "outputs": [
    {
     "data": {
      "text/html": [
       "<div>\n",
       "<style scoped>\n",
       "    .dataframe tbody tr th:only-of-type {\n",
       "        vertical-align: middle;\n",
       "    }\n",
       "\n",
       "    .dataframe tbody tr th {\n",
       "        vertical-align: top;\n",
       "    }\n",
       "\n",
       "    .dataframe thead th {\n",
       "        text-align: right;\n",
       "    }\n",
       "</style>\n",
       "<table border=\"1\" class=\"dataframe\">\n",
       "  <thead>\n",
       "    <tr style=\"text-align: right;\">\n",
       "      <th></th>\n",
       "      <th>Mouse ID</th>\n",
       "      <th>Drug Regimen</th>\n",
       "      <th>Sex</th>\n",
       "      <th>Age_months</th>\n",
       "      <th>Weight (g)</th>\n",
       "      <th>Timepoint</th>\n",
       "      <th>Tumor Volume (mm3)</th>\n",
       "      <th>Metastatic Sites</th>\n",
       "    </tr>\n",
       "  </thead>\n",
       "  <tbody>\n",
       "    <tr>\n",
       "      <th>0</th>\n",
       "      <td>k403</td>\n",
       "      <td>Ramicane</td>\n",
       "      <td>Male</td>\n",
       "      <td>21</td>\n",
       "      <td>16</td>\n",
       "      <td>0</td>\n",
       "      <td>45.000000</td>\n",
       "      <td>0</td>\n",
       "    </tr>\n",
       "    <tr>\n",
       "      <th>1</th>\n",
       "      <td>k403</td>\n",
       "      <td>Ramicane</td>\n",
       "      <td>Male</td>\n",
       "      <td>21</td>\n",
       "      <td>16</td>\n",
       "      <td>5</td>\n",
       "      <td>38.825898</td>\n",
       "      <td>0</td>\n",
       "    </tr>\n",
       "    <tr>\n",
       "      <th>2</th>\n",
       "      <td>k403</td>\n",
       "      <td>Ramicane</td>\n",
       "      <td>Male</td>\n",
       "      <td>21</td>\n",
       "      <td>16</td>\n",
       "      <td>10</td>\n",
       "      <td>35.014271</td>\n",
       "      <td>1</td>\n",
       "    </tr>\n",
       "    <tr>\n",
       "      <th>3</th>\n",
       "      <td>k403</td>\n",
       "      <td>Ramicane</td>\n",
       "      <td>Male</td>\n",
       "      <td>21</td>\n",
       "      <td>16</td>\n",
       "      <td>15</td>\n",
       "      <td>34.223992</td>\n",
       "      <td>1</td>\n",
       "    </tr>\n",
       "    <tr>\n",
       "      <th>4</th>\n",
       "      <td>k403</td>\n",
       "      <td>Ramicane</td>\n",
       "      <td>Male</td>\n",
       "      <td>21</td>\n",
       "      <td>16</td>\n",
       "      <td>20</td>\n",
       "      <td>32.997729</td>\n",
       "      <td>1</td>\n",
       "    </tr>\n",
       "    <tr>\n",
       "      <th>...</th>\n",
       "      <td>...</td>\n",
       "      <td>...</td>\n",
       "      <td>...</td>\n",
       "      <td>...</td>\n",
       "      <td>...</td>\n",
       "      <td>...</td>\n",
       "      <td>...</td>\n",
       "      <td>...</td>\n",
       "    </tr>\n",
       "    <tr>\n",
       "      <th>1888</th>\n",
       "      <td>z969</td>\n",
       "      <td>Naftisol</td>\n",
       "      <td>Male</td>\n",
       "      <td>9</td>\n",
       "      <td>30</td>\n",
       "      <td>25</td>\n",
       "      <td>63.145652</td>\n",
       "      <td>2</td>\n",
       "    </tr>\n",
       "    <tr>\n",
       "      <th>1889</th>\n",
       "      <td>z969</td>\n",
       "      <td>Naftisol</td>\n",
       "      <td>Male</td>\n",
       "      <td>9</td>\n",
       "      <td>30</td>\n",
       "      <td>30</td>\n",
       "      <td>65.841013</td>\n",
       "      <td>3</td>\n",
       "    </tr>\n",
       "    <tr>\n",
       "      <th>1890</th>\n",
       "      <td>z969</td>\n",
       "      <td>Naftisol</td>\n",
       "      <td>Male</td>\n",
       "      <td>9</td>\n",
       "      <td>30</td>\n",
       "      <td>35</td>\n",
       "      <td>69.176246</td>\n",
       "      <td>4</td>\n",
       "    </tr>\n",
       "    <tr>\n",
       "      <th>1891</th>\n",
       "      <td>z969</td>\n",
       "      <td>Naftisol</td>\n",
       "      <td>Male</td>\n",
       "      <td>9</td>\n",
       "      <td>30</td>\n",
       "      <td>40</td>\n",
       "      <td>70.314904</td>\n",
       "      <td>4</td>\n",
       "    </tr>\n",
       "    <tr>\n",
       "      <th>1892</th>\n",
       "      <td>z969</td>\n",
       "      <td>Naftisol</td>\n",
       "      <td>Male</td>\n",
       "      <td>9</td>\n",
       "      <td>30</td>\n",
       "      <td>45</td>\n",
       "      <td>73.867845</td>\n",
       "      <td>4</td>\n",
       "    </tr>\n",
       "  </tbody>\n",
       "</table>\n",
       "<p>1893 rows × 8 columns</p>\n",
       "</div>"
      ],
      "text/plain": [
       "     Mouse ID Drug Regimen   Sex  Age_months  Weight (g)  Timepoint  \\\n",
       "0        k403     Ramicane  Male          21          16          0   \n",
       "1        k403     Ramicane  Male          21          16          5   \n",
       "2        k403     Ramicane  Male          21          16         10   \n",
       "3        k403     Ramicane  Male          21          16         15   \n",
       "4        k403     Ramicane  Male          21          16         20   \n",
       "...       ...          ...   ...         ...         ...        ...   \n",
       "1888     z969     Naftisol  Male           9          30         25   \n",
       "1889     z969     Naftisol  Male           9          30         30   \n",
       "1890     z969     Naftisol  Male           9          30         35   \n",
       "1891     z969     Naftisol  Male           9          30         40   \n",
       "1892     z969     Naftisol  Male           9          30         45   \n",
       "\n",
       "      Tumor Volume (mm3)  Metastatic Sites  \n",
       "0              45.000000                 0  \n",
       "1              38.825898                 0  \n",
       "2              35.014271                 1  \n",
       "3              34.223992                 1  \n",
       "4              32.997729                 1  \n",
       "...                  ...               ...  \n",
       "1888           63.145652                 2  \n",
       "1889           65.841013                 3  \n",
       "1890           69.176246                 4  \n",
       "1891           70.314904                 4  \n",
       "1892           73.867845                 4  \n",
       "\n",
       "[1893 rows x 8 columns]"
      ]
     },
     "execution_count": 1,
     "metadata": {},
     "output_type": "execute_result"
    }
   ],
   "source": [
    "import matplotlib.pyplot as plt\n",
    "import pandas as pd\n",
    "import scipy.stats as st\n",
    "from scipy.stats import sem\n",
    "from sklearn import datasets\n",
    "from scipy.stats import linregress\n",
    "import seaborn as sns\n",
    "\n",
    "# Study data files\n",
    "mouse_metadata_path = \"data/Mouse_metadata.csv\"\n",
    "study_results_path = \"data/Study_results.csv\"\n",
    "\n",
    "# Read the mouse data and the study results\n",
    "mouse_metadata = pd.read_csv(mouse_metadata_path)\n",
    "study_results = pd.read_csv(study_results_path)\n",
    "\n",
    "# Combine the data into a single dataset\n",
    "mouse_study_df = pd.merge(mouse_metadata,study_results,on=\"Mouse ID\")\n",
    "\n",
    "# Display the data table for preview\n",
    "mouse_study_df"
   ]
  },
  {
   "cell_type": "code",
   "execution_count": 2,
   "metadata": {},
   "outputs": [
    {
     "data": {
      "text/plain": [
       "g989    13\n",
       "j913    10\n",
       "m546    10\n",
       "c402    10\n",
       "p136    10\n",
       "        ..\n",
       "h428     1\n",
       "u153     1\n",
       "o848     1\n",
       "n482     1\n",
       "x336     1\n",
       "Name: Mouse ID, Length: 249, dtype: int64"
      ]
     },
     "execution_count": 2,
     "metadata": {},
     "output_type": "execute_result"
    }
   ],
   "source": [
    "## Create duplicate of complete data set\n",
    "study_df = mouse_study_df.copy()\n",
    "\n",
    "## Check for complete data\n",
    "study_df.count()\n",
    "\n",
    "# Checking the number of mice\n",
    "study_df[\"Mouse ID\"].value_counts()\n",
    "\n",
    "#249 Mouse IDs"
   ]
  },
  {
   "cell_type": "code",
   "execution_count": 3,
   "metadata": {},
   "outputs": [
    {
     "data": {
      "text/html": [
       "<div>\n",
       "<style scoped>\n",
       "    .dataframe tbody tr th:only-of-type {\n",
       "        vertical-align: middle;\n",
       "    }\n",
       "\n",
       "    .dataframe tbody tr th {\n",
       "        vertical-align: top;\n",
       "    }\n",
       "\n",
       "    .dataframe thead th {\n",
       "        text-align: right;\n",
       "    }\n",
       "</style>\n",
       "<table border=\"1\" class=\"dataframe\">\n",
       "  <thead>\n",
       "    <tr style=\"text-align: right;\">\n",
       "      <th></th>\n",
       "      <th>Mouse ID</th>\n",
       "      <th>Drug Regimen</th>\n",
       "      <th>Sex</th>\n",
       "      <th>Age_months</th>\n",
       "      <th>Weight (g)</th>\n",
       "      <th>Timepoint</th>\n",
       "      <th>Tumor Volume (mm3)</th>\n",
       "      <th>Metastatic Sites</th>\n",
       "    </tr>\n",
       "  </thead>\n",
       "  <tbody>\n",
       "    <tr>\n",
       "      <th>909</th>\n",
       "      <td>g989</td>\n",
       "      <td>Propriva</td>\n",
       "      <td>Female</td>\n",
       "      <td>21</td>\n",
       "      <td>26</td>\n",
       "      <td>0</td>\n",
       "      <td>45.000000</td>\n",
       "      <td>0</td>\n",
       "    </tr>\n",
       "    <tr>\n",
       "      <th>911</th>\n",
       "      <td>g989</td>\n",
       "      <td>Propriva</td>\n",
       "      <td>Female</td>\n",
       "      <td>21</td>\n",
       "      <td>26</td>\n",
       "      <td>5</td>\n",
       "      <td>47.570392</td>\n",
       "      <td>0</td>\n",
       "    </tr>\n",
       "    <tr>\n",
       "      <th>913</th>\n",
       "      <td>g989</td>\n",
       "      <td>Propriva</td>\n",
       "      <td>Female</td>\n",
       "      <td>21</td>\n",
       "      <td>26</td>\n",
       "      <td>10</td>\n",
       "      <td>49.880528</td>\n",
       "      <td>0</td>\n",
       "    </tr>\n",
       "    <tr>\n",
       "      <th>915</th>\n",
       "      <td>g989</td>\n",
       "      <td>Propriva</td>\n",
       "      <td>Female</td>\n",
       "      <td>21</td>\n",
       "      <td>26</td>\n",
       "      <td>15</td>\n",
       "      <td>53.442020</td>\n",
       "      <td>0</td>\n",
       "    </tr>\n",
       "    <tr>\n",
       "      <th>917</th>\n",
       "      <td>g989</td>\n",
       "      <td>Propriva</td>\n",
       "      <td>Female</td>\n",
       "      <td>21</td>\n",
       "      <td>26</td>\n",
       "      <td>20</td>\n",
       "      <td>54.657650</td>\n",
       "      <td>1</td>\n",
       "    </tr>\n",
       "  </tbody>\n",
       "</table>\n",
       "</div>"
      ],
      "text/plain": [
       "    Mouse ID Drug Regimen     Sex  Age_months  Weight (g)  Timepoint  \\\n",
       "909     g989     Propriva  Female          21          26          0   \n",
       "911     g989     Propriva  Female          21          26          5   \n",
       "913     g989     Propriva  Female          21          26         10   \n",
       "915     g989     Propriva  Female          21          26         15   \n",
       "917     g989     Propriva  Female          21          26         20   \n",
       "\n",
       "     Tumor Volume (mm3)  Metastatic Sites  \n",
       "909           45.000000                 0  \n",
       "911           47.570392                 0  \n",
       "913           49.880528                 0  \n",
       "915           53.442020                 0  \n",
       "917           54.657650                 1  "
      ]
     },
     "execution_count": 3,
     "metadata": {},
     "output_type": "execute_result"
    }
   ],
   "source": [
    "# Identify how many rows have duplicate values for Mouse ID & Timempoint\n",
    "study_df.loc[study_df.duplicated(subset=[\"Mouse ID\",\"Timepoint\"]),:] #5 duplicate values found"
   ]
  },
  {
   "cell_type": "code",
   "execution_count": 4,
   "metadata": {},
   "outputs": [
    {
     "data": {
      "text/html": [
       "<div>\n",
       "<style scoped>\n",
       "    .dataframe tbody tr th:only-of-type {\n",
       "        vertical-align: middle;\n",
       "    }\n",
       "\n",
       "    .dataframe tbody tr th {\n",
       "        vertical-align: top;\n",
       "    }\n",
       "\n",
       "    .dataframe thead th {\n",
       "        text-align: right;\n",
       "    }\n",
       "</style>\n",
       "<table border=\"1\" class=\"dataframe\">\n",
       "  <thead>\n",
       "    <tr style=\"text-align: right;\">\n",
       "      <th></th>\n",
       "      <th>Mouse ID</th>\n",
       "      <th>Drug Regimen</th>\n",
       "      <th>Sex</th>\n",
       "      <th>Age_months</th>\n",
       "      <th>Weight (g)</th>\n",
       "      <th>Timepoint</th>\n",
       "      <th>Tumor Volume (mm3)</th>\n",
       "      <th>Metastatic Sites</th>\n",
       "    </tr>\n",
       "  </thead>\n",
       "  <tbody>\n",
       "    <tr>\n",
       "      <th>908</th>\n",
       "      <td>g989</td>\n",
       "      <td>Propriva</td>\n",
       "      <td>Female</td>\n",
       "      <td>21</td>\n",
       "      <td>26</td>\n",
       "      <td>0</td>\n",
       "      <td>45.000000</td>\n",
       "      <td>0</td>\n",
       "    </tr>\n",
       "    <tr>\n",
       "      <th>909</th>\n",
       "      <td>g989</td>\n",
       "      <td>Propriva</td>\n",
       "      <td>Female</td>\n",
       "      <td>21</td>\n",
       "      <td>26</td>\n",
       "      <td>0</td>\n",
       "      <td>45.000000</td>\n",
       "      <td>0</td>\n",
       "    </tr>\n",
       "    <tr>\n",
       "      <th>910</th>\n",
       "      <td>g989</td>\n",
       "      <td>Propriva</td>\n",
       "      <td>Female</td>\n",
       "      <td>21</td>\n",
       "      <td>26</td>\n",
       "      <td>5</td>\n",
       "      <td>48.786801</td>\n",
       "      <td>0</td>\n",
       "    </tr>\n",
       "    <tr>\n",
       "      <th>911</th>\n",
       "      <td>g989</td>\n",
       "      <td>Propriva</td>\n",
       "      <td>Female</td>\n",
       "      <td>21</td>\n",
       "      <td>26</td>\n",
       "      <td>5</td>\n",
       "      <td>47.570392</td>\n",
       "      <td>0</td>\n",
       "    </tr>\n",
       "    <tr>\n",
       "      <th>912</th>\n",
       "      <td>g989</td>\n",
       "      <td>Propriva</td>\n",
       "      <td>Female</td>\n",
       "      <td>21</td>\n",
       "      <td>26</td>\n",
       "      <td>10</td>\n",
       "      <td>51.745156</td>\n",
       "      <td>0</td>\n",
       "    </tr>\n",
       "    <tr>\n",
       "      <th>913</th>\n",
       "      <td>g989</td>\n",
       "      <td>Propriva</td>\n",
       "      <td>Female</td>\n",
       "      <td>21</td>\n",
       "      <td>26</td>\n",
       "      <td>10</td>\n",
       "      <td>49.880528</td>\n",
       "      <td>0</td>\n",
       "    </tr>\n",
       "    <tr>\n",
       "      <th>914</th>\n",
       "      <td>g989</td>\n",
       "      <td>Propriva</td>\n",
       "      <td>Female</td>\n",
       "      <td>21</td>\n",
       "      <td>26</td>\n",
       "      <td>15</td>\n",
       "      <td>51.325852</td>\n",
       "      <td>1</td>\n",
       "    </tr>\n",
       "    <tr>\n",
       "      <th>915</th>\n",
       "      <td>g989</td>\n",
       "      <td>Propriva</td>\n",
       "      <td>Female</td>\n",
       "      <td>21</td>\n",
       "      <td>26</td>\n",
       "      <td>15</td>\n",
       "      <td>53.442020</td>\n",
       "      <td>0</td>\n",
       "    </tr>\n",
       "    <tr>\n",
       "      <th>916</th>\n",
       "      <td>g989</td>\n",
       "      <td>Propriva</td>\n",
       "      <td>Female</td>\n",
       "      <td>21</td>\n",
       "      <td>26</td>\n",
       "      <td>20</td>\n",
       "      <td>55.326122</td>\n",
       "      <td>1</td>\n",
       "    </tr>\n",
       "    <tr>\n",
       "      <th>917</th>\n",
       "      <td>g989</td>\n",
       "      <td>Propriva</td>\n",
       "      <td>Female</td>\n",
       "      <td>21</td>\n",
       "      <td>26</td>\n",
       "      <td>20</td>\n",
       "      <td>54.657650</td>\n",
       "      <td>1</td>\n",
       "    </tr>\n",
       "    <tr>\n",
       "      <th>918</th>\n",
       "      <td>g989</td>\n",
       "      <td>Propriva</td>\n",
       "      <td>Female</td>\n",
       "      <td>21</td>\n",
       "      <td>26</td>\n",
       "      <td>25</td>\n",
       "      <td>56.045564</td>\n",
       "      <td>1</td>\n",
       "    </tr>\n",
       "    <tr>\n",
       "      <th>919</th>\n",
       "      <td>g989</td>\n",
       "      <td>Propriva</td>\n",
       "      <td>Female</td>\n",
       "      <td>21</td>\n",
       "      <td>26</td>\n",
       "      <td>30</td>\n",
       "      <td>59.082294</td>\n",
       "      <td>1</td>\n",
       "    </tr>\n",
       "    <tr>\n",
       "      <th>920</th>\n",
       "      <td>g989</td>\n",
       "      <td>Propriva</td>\n",
       "      <td>Female</td>\n",
       "      <td>21</td>\n",
       "      <td>26</td>\n",
       "      <td>35</td>\n",
       "      <td>62.570880</td>\n",
       "      <td>2</td>\n",
       "    </tr>\n",
       "  </tbody>\n",
       "</table>\n",
       "</div>"
      ],
      "text/plain": [
       "    Mouse ID Drug Regimen     Sex  Age_months  Weight (g)  Timepoint  \\\n",
       "908     g989     Propriva  Female          21          26          0   \n",
       "909     g989     Propriva  Female          21          26          0   \n",
       "910     g989     Propriva  Female          21          26          5   \n",
       "911     g989     Propriva  Female          21          26          5   \n",
       "912     g989     Propriva  Female          21          26         10   \n",
       "913     g989     Propriva  Female          21          26         10   \n",
       "914     g989     Propriva  Female          21          26         15   \n",
       "915     g989     Propriva  Female          21          26         15   \n",
       "916     g989     Propriva  Female          21          26         20   \n",
       "917     g989     Propriva  Female          21          26         20   \n",
       "918     g989     Propriva  Female          21          26         25   \n",
       "919     g989     Propriva  Female          21          26         30   \n",
       "920     g989     Propriva  Female          21          26         35   \n",
       "\n",
       "     Tumor Volume (mm3)  Metastatic Sites  \n",
       "908           45.000000                 0  \n",
       "909           45.000000                 0  \n",
       "910           48.786801                 0  \n",
       "911           47.570392                 0  \n",
       "912           51.745156                 0  \n",
       "913           49.880528                 0  \n",
       "914           51.325852                 1  \n",
       "915           53.442020                 0  \n",
       "916           55.326122                 1  \n",
       "917           54.657650                 1  \n",
       "918           56.045564                 1  \n",
       "919           59.082294                 1  \n",
       "920           62.570880                 2  "
      ]
     },
     "execution_count": 4,
     "metadata": {},
     "output_type": "execute_result"
    }
   ],
   "source": [
    "## Confirm duplicates by ID and Timepoint\n",
    "study_df.loc[908:920,:]"
   ]
  },
  {
   "cell_type": "code",
   "execution_count": 5,
   "metadata": {},
   "outputs": [
    {
     "data": {
      "text/html": [
       "<div>\n",
       "<style scoped>\n",
       "    .dataframe tbody tr th:only-of-type {\n",
       "        vertical-align: middle;\n",
       "    }\n",
       "\n",
       "    .dataframe tbody tr th {\n",
       "        vertical-align: top;\n",
       "    }\n",
       "\n",
       "    .dataframe thead th {\n",
       "        text-align: right;\n",
       "    }\n",
       "</style>\n",
       "<table border=\"1\" class=\"dataframe\">\n",
       "  <thead>\n",
       "    <tr style=\"text-align: right;\">\n",
       "      <th></th>\n",
       "      <th>Mouse ID</th>\n",
       "      <th>Drug Regimen</th>\n",
       "      <th>Sex</th>\n",
       "      <th>Age_months</th>\n",
       "      <th>Weight (g)</th>\n",
       "      <th>Timepoint</th>\n",
       "      <th>Tumor Volume (mm3)</th>\n",
       "      <th>Metastatic Sites</th>\n",
       "    </tr>\n",
       "  </thead>\n",
       "  <tbody>\n",
       "    <tr>\n",
       "      <th>909</th>\n",
       "      <td>g989</td>\n",
       "      <td>Propriva</td>\n",
       "      <td>Female</td>\n",
       "      <td>21</td>\n",
       "      <td>26</td>\n",
       "      <td>0</td>\n",
       "      <td>45.000000</td>\n",
       "      <td>0</td>\n",
       "    </tr>\n",
       "    <tr>\n",
       "      <th>911</th>\n",
       "      <td>g989</td>\n",
       "      <td>Propriva</td>\n",
       "      <td>Female</td>\n",
       "      <td>21</td>\n",
       "      <td>26</td>\n",
       "      <td>5</td>\n",
       "      <td>47.570392</td>\n",
       "      <td>0</td>\n",
       "    </tr>\n",
       "    <tr>\n",
       "      <th>913</th>\n",
       "      <td>g989</td>\n",
       "      <td>Propriva</td>\n",
       "      <td>Female</td>\n",
       "      <td>21</td>\n",
       "      <td>26</td>\n",
       "      <td>10</td>\n",
       "      <td>49.880528</td>\n",
       "      <td>0</td>\n",
       "    </tr>\n",
       "    <tr>\n",
       "      <th>915</th>\n",
       "      <td>g989</td>\n",
       "      <td>Propriva</td>\n",
       "      <td>Female</td>\n",
       "      <td>21</td>\n",
       "      <td>26</td>\n",
       "      <td>15</td>\n",
       "      <td>53.442020</td>\n",
       "      <td>0</td>\n",
       "    </tr>\n",
       "    <tr>\n",
       "      <th>917</th>\n",
       "      <td>g989</td>\n",
       "      <td>Propriva</td>\n",
       "      <td>Female</td>\n",
       "      <td>21</td>\n",
       "      <td>26</td>\n",
       "      <td>20</td>\n",
       "      <td>54.657650</td>\n",
       "      <td>1</td>\n",
       "    </tr>\n",
       "  </tbody>\n",
       "</table>\n",
       "</div>"
      ],
      "text/plain": [
       "    Mouse ID Drug Regimen     Sex  Age_months  Weight (g)  Timepoint  \\\n",
       "909     g989     Propriva  Female          21          26          0   \n",
       "911     g989     Propriva  Female          21          26          5   \n",
       "913     g989     Propriva  Female          21          26         10   \n",
       "915     g989     Propriva  Female          21          26         15   \n",
       "917     g989     Propriva  Female          21          26         20   \n",
       "\n",
       "     Tumor Volume (mm3)  Metastatic Sites  \n",
       "909           45.000000                 0  \n",
       "911           47.570392                 0  \n",
       "913           49.880528                 0  \n",
       "915           53.442020                 0  \n",
       "917           54.657650                 1  "
      ]
     },
     "execution_count": 5,
     "metadata": {},
     "output_type": "execute_result"
    }
   ],
   "source": [
    "# Getting the duplicate mice by ID number that shows up for Mouse ID and Timepoint.\n",
    "# Optional: Get all the data for the duplicate mouse ID. \n",
    "duplicate_mouse_ids = study_df.loc[study_df.duplicated(subset=[\"Mouse ID\",\"Timepoint\"]),:]\n",
    "duplicate_mouse_ids\n",
    "# Mouse g989 had data input twice"
   ]
  },
  {
   "cell_type": "code",
   "execution_count": 6,
   "metadata": {},
   "outputs": [
    {
     "data": {
      "text/plain": [
       "(1893, 8)"
      ]
     },
     "execution_count": 6,
     "metadata": {},
     "output_type": "execute_result"
    }
   ],
   "source": [
    "# Create a clean DataFrame by dropping the duplicate mouse by its ID.\n",
    "clean_df = study_df.drop_duplicates(subset=[\"Mouse ID\",\"Timepoint\"])\n",
    "study_df.shape"
   ]
  },
  {
   "cell_type": "code",
   "execution_count": 7,
   "metadata": {},
   "outputs": [
    {
     "data": {
      "text/plain": [
       "(1888, 8)"
      ]
     },
     "execution_count": 7,
     "metadata": {},
     "output_type": "execute_result"
    }
   ],
   "source": [
    "# Checking the number of mice in the clean DataFrame.\n",
    "clean_df.shape #5 duplicates removed"
   ]
  },
  {
   "cell_type": "markdown",
   "metadata": {},
   "source": [
    "## Summary Statistics"
   ]
  },
  {
   "cell_type": "code",
   "execution_count": 8,
   "metadata": {},
   "outputs": [
    {
     "data": {
      "text/html": [
       "<div>\n",
       "<style scoped>\n",
       "    .dataframe tbody tr th:only-of-type {\n",
       "        vertical-align: middle;\n",
       "    }\n",
       "\n",
       "    .dataframe tbody tr th {\n",
       "        vertical-align: top;\n",
       "    }\n",
       "\n",
       "    .dataframe thead th {\n",
       "        text-align: right;\n",
       "    }\n",
       "</style>\n",
       "<table border=\"1\" class=\"dataframe\">\n",
       "  <thead>\n",
       "    <tr style=\"text-align: right;\">\n",
       "      <th></th>\n",
       "      <th>Mouse ID</th>\n",
       "      <th>Drug Regimen</th>\n",
       "      <th>Sex</th>\n",
       "      <th>Age_months</th>\n",
       "      <th>Weight (g)</th>\n",
       "      <th>Timepoint</th>\n",
       "      <th>Tumor Volume (mm3)</th>\n",
       "      <th>Metastatic Sites</th>\n",
       "    </tr>\n",
       "  </thead>\n",
       "  <tbody>\n",
       "    <tr>\n",
       "      <th>0</th>\n",
       "      <td>k403</td>\n",
       "      <td>Ramicane</td>\n",
       "      <td>Male</td>\n",
       "      <td>21</td>\n",
       "      <td>16</td>\n",
       "      <td>0</td>\n",
       "      <td>45.000000</td>\n",
       "      <td>0</td>\n",
       "    </tr>\n",
       "    <tr>\n",
       "      <th>1</th>\n",
       "      <td>k403</td>\n",
       "      <td>Ramicane</td>\n",
       "      <td>Male</td>\n",
       "      <td>21</td>\n",
       "      <td>16</td>\n",
       "      <td>5</td>\n",
       "      <td>38.825898</td>\n",
       "      <td>0</td>\n",
       "    </tr>\n",
       "    <tr>\n",
       "      <th>2</th>\n",
       "      <td>k403</td>\n",
       "      <td>Ramicane</td>\n",
       "      <td>Male</td>\n",
       "      <td>21</td>\n",
       "      <td>16</td>\n",
       "      <td>10</td>\n",
       "      <td>35.014271</td>\n",
       "      <td>1</td>\n",
       "    </tr>\n",
       "    <tr>\n",
       "      <th>3</th>\n",
       "      <td>k403</td>\n",
       "      <td>Ramicane</td>\n",
       "      <td>Male</td>\n",
       "      <td>21</td>\n",
       "      <td>16</td>\n",
       "      <td>15</td>\n",
       "      <td>34.223992</td>\n",
       "      <td>1</td>\n",
       "    </tr>\n",
       "    <tr>\n",
       "      <th>4</th>\n",
       "      <td>k403</td>\n",
       "      <td>Ramicane</td>\n",
       "      <td>Male</td>\n",
       "      <td>21</td>\n",
       "      <td>16</td>\n",
       "      <td>20</td>\n",
       "      <td>32.997729</td>\n",
       "      <td>1</td>\n",
       "    </tr>\n",
       "  </tbody>\n",
       "</table>\n",
       "</div>"
      ],
      "text/plain": [
       "  Mouse ID Drug Regimen   Sex  Age_months  Weight (g)  Timepoint  \\\n",
       "0     k403     Ramicane  Male          21          16          0   \n",
       "1     k403     Ramicane  Male          21          16          5   \n",
       "2     k403     Ramicane  Male          21          16         10   \n",
       "3     k403     Ramicane  Male          21          16         15   \n",
       "4     k403     Ramicane  Male          21          16         20   \n",
       "\n",
       "   Tumor Volume (mm3)  Metastatic Sites  \n",
       "0           45.000000                 0  \n",
       "1           38.825898                 0  \n",
       "2           35.014271                 1  \n",
       "3           34.223992                 1  \n",
       "4           32.997729                 1  "
      ]
     },
     "execution_count": 8,
     "metadata": {},
     "output_type": "execute_result"
    }
   ],
   "source": [
    "clean_df.head()"
   ]
  },
  {
   "cell_type": "code",
   "execution_count": 9,
   "metadata": {
    "tags": []
   },
   "outputs": [
    {
     "data": {
      "text/plain": [
       "Drug Regimen\n",
       "Capomulin    0.329346\n",
       "Ceftamin     0.469821\n",
       "Infubinol    0.492236\n",
       "Ketapril     0.603860\n",
       "Naftisol     0.596466\n",
       "Placebo      0.581331\n",
       "Propriva     0.525862\n",
       "Ramicane     0.320955\n",
       "Stelasyn     0.573111\n",
       "Zoniferol    0.516398\n",
       "Name: Tumor Volume (mm3), dtype: float64"
      ]
     },
     "execution_count": 9,
     "metadata": {},
     "output_type": "execute_result"
    }
   ],
   "source": [
    "# Generate a summary statistics table of mean, median, variance, standard deviation of the tumor volume for each regimen\n",
    "tumor_mean = clean_df.groupby(\"Drug Regimen\")[\"Tumor Volume (mm3)\"].mean()\n",
    "tumor_mean #SUCCESS\n",
    "\n",
    "tumor_median = clean_df.groupby(\"Drug Regimen\")[\"Tumor Volume (mm3)\"].median()\n",
    "tumor_median #SUCCESS\n",
    "\n",
    "tumor_var = clean_df.groupby(\"Drug Regimen\")[\"Tumor Volume (mm3)\"].var()\n",
    "tumor_var #SUCCESS\n",
    "\n",
    "tumor_std = clean_df.groupby(\"Drug Regimen\")[\"Tumor Volume (mm3)\"].std()\n",
    "tumor_std #SUCCESS\n",
    "\n",
    "tumor_sem = clean_df.groupby(\"Drug Regimen\")[\"Tumor Volume (mm3)\"].sem()\n",
    "tumor_sem #SUCCESS?"
   ]
  },
  {
   "cell_type": "code",
   "execution_count": 10,
   "metadata": {},
   "outputs": [],
   "source": [
    "style_dict = {\n",
    "    \"Mean\": \"{:.2f}\", \n",
    "    \"Median\": \"{:.2f}\",\n",
    "    \"Per Student Budget\":\"{:.2f}\",\n",
    "    \"Variance\": \"{:.2f}\", \n",
    "    \"Standard Deviation\": \"{:.2f}\",\n",
    "    \"Standard Error\": \"{:.2f}\", \n",
    "    \"mean\": \"{:.2f}\",\n",
    "    \"median\": \"{:.2f}\",\n",
    "    \"var\": \"{:.2f}\",\n",
    "    \"std\": \"{:.2f}\",\n",
    "    \"sem\":\"{:.2f}\",\n",
    "    \"Tumor Volume (mm3)\": \"{:.3f}\",\n",
    "    \"11th\": \"{:.2f}\",\n",
    "    \"12th\": \"{:.2f}\"\n",
    "}"
   ]
  },
  {
   "cell_type": "code",
   "execution_count": 11,
   "metadata": {},
   "outputs": [],
   "source": [
    "# Assemble the resulting series into a single summary dataframe.\n",
    "tumor_summary_df = pd.DataFrame({\"Mean\":tumor_mean,\"Median\":tumor_median,\"Variance\":tumor_var,\"Standard Deviation\":tumor_std,\n",
    "                                 \"Standard Error\":tumor_sem\n",
    "                                })"
   ]
  },
  {
   "cell_type": "code",
   "execution_count": 12,
   "metadata": {},
   "outputs": [
    {
     "data": {
      "text/html": [
       "<style  type=\"text/css\" >\n",
       "</style><table id=\"T_9e15f_\" ><thead>    <tr>        <th class=\"blank level0\" ></th>        <th class=\"col_heading level0 col0\" >Mean</th>        <th class=\"col_heading level0 col1\" >Median</th>        <th class=\"col_heading level0 col2\" >Variance</th>        <th class=\"col_heading level0 col3\" >Standard Deviation</th>        <th class=\"col_heading level0 col4\" >Standard Error</th>    </tr>    <tr>        <th class=\"index_name level0\" >Drug Regimen</th>        <th class=\"blank\" ></th>        <th class=\"blank\" ></th>        <th class=\"blank\" ></th>        <th class=\"blank\" ></th>        <th class=\"blank\" ></th>    </tr></thead><tbody>\n",
       "                <tr>\n",
       "                        <th id=\"T_9e15f_level0_row0\" class=\"row_heading level0 row0\" >Capomulin</th>\n",
       "                        <td id=\"T_9e15f_row0_col0\" class=\"data row0 col0\" >40.68</td>\n",
       "                        <td id=\"T_9e15f_row0_col1\" class=\"data row0 col1\" >41.56</td>\n",
       "                        <td id=\"T_9e15f_row0_col2\" class=\"data row0 col2\" >24.95</td>\n",
       "                        <td id=\"T_9e15f_row0_col3\" class=\"data row0 col3\" >4.99</td>\n",
       "                        <td id=\"T_9e15f_row0_col4\" class=\"data row0 col4\" >0.33</td>\n",
       "            </tr>\n",
       "            <tr>\n",
       "                        <th id=\"T_9e15f_level0_row1\" class=\"row_heading level0 row1\" >Ceftamin</th>\n",
       "                        <td id=\"T_9e15f_row1_col0\" class=\"data row1 col0\" >52.59</td>\n",
       "                        <td id=\"T_9e15f_row1_col1\" class=\"data row1 col1\" >51.78</td>\n",
       "                        <td id=\"T_9e15f_row1_col2\" class=\"data row1 col2\" >39.29</td>\n",
       "                        <td id=\"T_9e15f_row1_col3\" class=\"data row1 col3\" >6.27</td>\n",
       "                        <td id=\"T_9e15f_row1_col4\" class=\"data row1 col4\" >0.47</td>\n",
       "            </tr>\n",
       "            <tr>\n",
       "                        <th id=\"T_9e15f_level0_row2\" class=\"row_heading level0 row2\" >Infubinol</th>\n",
       "                        <td id=\"T_9e15f_row2_col0\" class=\"data row2 col0\" >52.88</td>\n",
       "                        <td id=\"T_9e15f_row2_col1\" class=\"data row2 col1\" >51.82</td>\n",
       "                        <td id=\"T_9e15f_row2_col2\" class=\"data row2 col2\" >43.13</td>\n",
       "                        <td id=\"T_9e15f_row2_col3\" class=\"data row2 col3\" >6.57</td>\n",
       "                        <td id=\"T_9e15f_row2_col4\" class=\"data row2 col4\" >0.49</td>\n",
       "            </tr>\n",
       "            <tr>\n",
       "                        <th id=\"T_9e15f_level0_row3\" class=\"row_heading level0 row3\" >Ketapril</th>\n",
       "                        <td id=\"T_9e15f_row3_col0\" class=\"data row3 col0\" >55.24</td>\n",
       "                        <td id=\"T_9e15f_row3_col1\" class=\"data row3 col1\" >53.70</td>\n",
       "                        <td id=\"T_9e15f_row3_col2\" class=\"data row3 col2\" >68.55</td>\n",
       "                        <td id=\"T_9e15f_row3_col3\" class=\"data row3 col3\" >8.28</td>\n",
       "                        <td id=\"T_9e15f_row3_col4\" class=\"data row3 col4\" >0.60</td>\n",
       "            </tr>\n",
       "            <tr>\n",
       "                        <th id=\"T_9e15f_level0_row4\" class=\"row_heading level0 row4\" >Naftisol</th>\n",
       "                        <td id=\"T_9e15f_row4_col0\" class=\"data row4 col0\" >54.33</td>\n",
       "                        <td id=\"T_9e15f_row4_col1\" class=\"data row4 col1\" >52.51</td>\n",
       "                        <td id=\"T_9e15f_row4_col2\" class=\"data row4 col2\" >66.17</td>\n",
       "                        <td id=\"T_9e15f_row4_col3\" class=\"data row4 col3\" >8.13</td>\n",
       "                        <td id=\"T_9e15f_row4_col4\" class=\"data row4 col4\" >0.60</td>\n",
       "            </tr>\n",
       "            <tr>\n",
       "                        <th id=\"T_9e15f_level0_row5\" class=\"row_heading level0 row5\" >Placebo</th>\n",
       "                        <td id=\"T_9e15f_row5_col0\" class=\"data row5 col0\" >54.03</td>\n",
       "                        <td id=\"T_9e15f_row5_col1\" class=\"data row5 col1\" >52.29</td>\n",
       "                        <td id=\"T_9e15f_row5_col2\" class=\"data row5 col2\" >61.17</td>\n",
       "                        <td id=\"T_9e15f_row5_col3\" class=\"data row5 col3\" >7.82</td>\n",
       "                        <td id=\"T_9e15f_row5_col4\" class=\"data row5 col4\" >0.58</td>\n",
       "            </tr>\n",
       "            <tr>\n",
       "                        <th id=\"T_9e15f_level0_row6\" class=\"row_heading level0 row6\" >Propriva</th>\n",
       "                        <td id=\"T_9e15f_row6_col0\" class=\"data row6 col0\" >52.39</td>\n",
       "                        <td id=\"T_9e15f_row6_col1\" class=\"data row6 col1\" >50.91</td>\n",
       "                        <td id=\"T_9e15f_row6_col2\" class=\"data row6 col2\" >43.14</td>\n",
       "                        <td id=\"T_9e15f_row6_col3\" class=\"data row6 col3\" >6.57</td>\n",
       "                        <td id=\"T_9e15f_row6_col4\" class=\"data row6 col4\" >0.53</td>\n",
       "            </tr>\n",
       "            <tr>\n",
       "                        <th id=\"T_9e15f_level0_row7\" class=\"row_heading level0 row7\" >Ramicane</th>\n",
       "                        <td id=\"T_9e15f_row7_col0\" class=\"data row7 col0\" >40.22</td>\n",
       "                        <td id=\"T_9e15f_row7_col1\" class=\"data row7 col1\" >40.67</td>\n",
       "                        <td id=\"T_9e15f_row7_col2\" class=\"data row7 col2\" >23.49</td>\n",
       "                        <td id=\"T_9e15f_row7_col3\" class=\"data row7 col3\" >4.85</td>\n",
       "                        <td id=\"T_9e15f_row7_col4\" class=\"data row7 col4\" >0.32</td>\n",
       "            </tr>\n",
       "            <tr>\n",
       "                        <th id=\"T_9e15f_level0_row8\" class=\"row_heading level0 row8\" >Stelasyn</th>\n",
       "                        <td id=\"T_9e15f_row8_col0\" class=\"data row8 col0\" >54.23</td>\n",
       "                        <td id=\"T_9e15f_row8_col1\" class=\"data row8 col1\" >52.43</td>\n",
       "                        <td id=\"T_9e15f_row8_col2\" class=\"data row8 col2\" >59.45</td>\n",
       "                        <td id=\"T_9e15f_row8_col3\" class=\"data row8 col3\" >7.71</td>\n",
       "                        <td id=\"T_9e15f_row8_col4\" class=\"data row8 col4\" >0.57</td>\n",
       "            </tr>\n",
       "            <tr>\n",
       "                        <th id=\"T_9e15f_level0_row9\" class=\"row_heading level0 row9\" >Zoniferol</th>\n",
       "                        <td id=\"T_9e15f_row9_col0\" class=\"data row9 col0\" >53.24</td>\n",
       "                        <td id=\"T_9e15f_row9_col1\" class=\"data row9 col1\" >51.82</td>\n",
       "                        <td id=\"T_9e15f_row9_col2\" class=\"data row9 col2\" >48.53</td>\n",
       "                        <td id=\"T_9e15f_row9_col3\" class=\"data row9 col3\" >6.97</td>\n",
       "                        <td id=\"T_9e15f_row9_col4\" class=\"data row9 col4\" >0.52</td>\n",
       "            </tr>\n",
       "    </tbody></table>"
      ],
      "text/plain": [
       "<pandas.io.formats.style.Styler at 0x7f8d902ebac0>"
      ]
     },
     "execution_count": 12,
     "metadata": {},
     "output_type": "execute_result"
    }
   ],
   "source": [
    "# Generate a summary statistics table of mean, median, variance, standard deviation, and SEM of the tumor volume for each regimen\n",
    "tumor_summary_df.style.format(style_dict)"
   ]
  },
  {
   "cell_type": "code",
   "execution_count": 13,
   "metadata": {},
   "outputs": [
    {
     "data": {
      "text/html": [
       "<style  type=\"text/css\" >\n",
       "</style><table id=\"T_c4561_\" ><thead>    <tr>        <th class=\"blank level0\" ></th>        <th class=\"col_heading level0 col0\" >mean</th>        <th class=\"col_heading level0 col1\" >median</th>        <th class=\"col_heading level0 col2\" >std</th>        <th class=\"col_heading level0 col3\" >var</th>        <th class=\"col_heading level0 col4\" >sem</th>    </tr>    <tr>        <th class=\"index_name level0\" >Drug Regimen</th>        <th class=\"blank\" ></th>        <th class=\"blank\" ></th>        <th class=\"blank\" ></th>        <th class=\"blank\" ></th>        <th class=\"blank\" ></th>    </tr></thead><tbody>\n",
       "                <tr>\n",
       "                        <th id=\"T_c4561_level0_row0\" class=\"row_heading level0 row0\" >Capomulin</th>\n",
       "                        <td id=\"T_c4561_row0_col0\" class=\"data row0 col0\" >40.68</td>\n",
       "                        <td id=\"T_c4561_row0_col1\" class=\"data row0 col1\" >41.56</td>\n",
       "                        <td id=\"T_c4561_row0_col2\" class=\"data row0 col2\" >4.99</td>\n",
       "                        <td id=\"T_c4561_row0_col3\" class=\"data row0 col3\" >24.95</td>\n",
       "                        <td id=\"T_c4561_row0_col4\" class=\"data row0 col4\" >0.33</td>\n",
       "            </tr>\n",
       "            <tr>\n",
       "                        <th id=\"T_c4561_level0_row1\" class=\"row_heading level0 row1\" >Ceftamin</th>\n",
       "                        <td id=\"T_c4561_row1_col0\" class=\"data row1 col0\" >52.59</td>\n",
       "                        <td id=\"T_c4561_row1_col1\" class=\"data row1 col1\" >51.78</td>\n",
       "                        <td id=\"T_c4561_row1_col2\" class=\"data row1 col2\" >6.27</td>\n",
       "                        <td id=\"T_c4561_row1_col3\" class=\"data row1 col3\" >39.29</td>\n",
       "                        <td id=\"T_c4561_row1_col4\" class=\"data row1 col4\" >0.47</td>\n",
       "            </tr>\n",
       "            <tr>\n",
       "                        <th id=\"T_c4561_level0_row2\" class=\"row_heading level0 row2\" >Infubinol</th>\n",
       "                        <td id=\"T_c4561_row2_col0\" class=\"data row2 col0\" >52.88</td>\n",
       "                        <td id=\"T_c4561_row2_col1\" class=\"data row2 col1\" >51.82</td>\n",
       "                        <td id=\"T_c4561_row2_col2\" class=\"data row2 col2\" >6.57</td>\n",
       "                        <td id=\"T_c4561_row2_col3\" class=\"data row2 col3\" >43.13</td>\n",
       "                        <td id=\"T_c4561_row2_col4\" class=\"data row2 col4\" >0.49</td>\n",
       "            </tr>\n",
       "            <tr>\n",
       "                        <th id=\"T_c4561_level0_row3\" class=\"row_heading level0 row3\" >Ketapril</th>\n",
       "                        <td id=\"T_c4561_row3_col0\" class=\"data row3 col0\" >55.24</td>\n",
       "                        <td id=\"T_c4561_row3_col1\" class=\"data row3 col1\" >53.70</td>\n",
       "                        <td id=\"T_c4561_row3_col2\" class=\"data row3 col2\" >8.28</td>\n",
       "                        <td id=\"T_c4561_row3_col3\" class=\"data row3 col3\" >68.55</td>\n",
       "                        <td id=\"T_c4561_row3_col4\" class=\"data row3 col4\" >0.60</td>\n",
       "            </tr>\n",
       "            <tr>\n",
       "                        <th id=\"T_c4561_level0_row4\" class=\"row_heading level0 row4\" >Naftisol</th>\n",
       "                        <td id=\"T_c4561_row4_col0\" class=\"data row4 col0\" >54.33</td>\n",
       "                        <td id=\"T_c4561_row4_col1\" class=\"data row4 col1\" >52.51</td>\n",
       "                        <td id=\"T_c4561_row4_col2\" class=\"data row4 col2\" >8.13</td>\n",
       "                        <td id=\"T_c4561_row4_col3\" class=\"data row4 col3\" >66.17</td>\n",
       "                        <td id=\"T_c4561_row4_col4\" class=\"data row4 col4\" >0.60</td>\n",
       "            </tr>\n",
       "            <tr>\n",
       "                        <th id=\"T_c4561_level0_row5\" class=\"row_heading level0 row5\" >Placebo</th>\n",
       "                        <td id=\"T_c4561_row5_col0\" class=\"data row5 col0\" >54.03</td>\n",
       "                        <td id=\"T_c4561_row5_col1\" class=\"data row5 col1\" >52.29</td>\n",
       "                        <td id=\"T_c4561_row5_col2\" class=\"data row5 col2\" >7.82</td>\n",
       "                        <td id=\"T_c4561_row5_col3\" class=\"data row5 col3\" >61.17</td>\n",
       "                        <td id=\"T_c4561_row5_col4\" class=\"data row5 col4\" >0.58</td>\n",
       "            </tr>\n",
       "            <tr>\n",
       "                        <th id=\"T_c4561_level0_row6\" class=\"row_heading level0 row6\" >Propriva</th>\n",
       "                        <td id=\"T_c4561_row6_col0\" class=\"data row6 col0\" >52.39</td>\n",
       "                        <td id=\"T_c4561_row6_col1\" class=\"data row6 col1\" >50.91</td>\n",
       "                        <td id=\"T_c4561_row6_col2\" class=\"data row6 col2\" >6.57</td>\n",
       "                        <td id=\"T_c4561_row6_col3\" class=\"data row6 col3\" >43.14</td>\n",
       "                        <td id=\"T_c4561_row6_col4\" class=\"data row6 col4\" >0.53</td>\n",
       "            </tr>\n",
       "            <tr>\n",
       "                        <th id=\"T_c4561_level0_row7\" class=\"row_heading level0 row7\" >Ramicane</th>\n",
       "                        <td id=\"T_c4561_row7_col0\" class=\"data row7 col0\" >40.22</td>\n",
       "                        <td id=\"T_c4561_row7_col1\" class=\"data row7 col1\" >40.67</td>\n",
       "                        <td id=\"T_c4561_row7_col2\" class=\"data row7 col2\" >4.85</td>\n",
       "                        <td id=\"T_c4561_row7_col3\" class=\"data row7 col3\" >23.49</td>\n",
       "                        <td id=\"T_c4561_row7_col4\" class=\"data row7 col4\" >0.32</td>\n",
       "            </tr>\n",
       "            <tr>\n",
       "                        <th id=\"T_c4561_level0_row8\" class=\"row_heading level0 row8\" >Stelasyn</th>\n",
       "                        <td id=\"T_c4561_row8_col0\" class=\"data row8 col0\" >54.23</td>\n",
       "                        <td id=\"T_c4561_row8_col1\" class=\"data row8 col1\" >52.43</td>\n",
       "                        <td id=\"T_c4561_row8_col2\" class=\"data row8 col2\" >7.71</td>\n",
       "                        <td id=\"T_c4561_row8_col3\" class=\"data row8 col3\" >59.45</td>\n",
       "                        <td id=\"T_c4561_row8_col4\" class=\"data row8 col4\" >0.57</td>\n",
       "            </tr>\n",
       "            <tr>\n",
       "                        <th id=\"T_c4561_level0_row9\" class=\"row_heading level0 row9\" >Zoniferol</th>\n",
       "                        <td id=\"T_c4561_row9_col0\" class=\"data row9 col0\" >53.24</td>\n",
       "                        <td id=\"T_c4561_row9_col1\" class=\"data row9 col1\" >51.82</td>\n",
       "                        <td id=\"T_c4561_row9_col2\" class=\"data row9 col2\" >6.97</td>\n",
       "                        <td id=\"T_c4561_row9_col3\" class=\"data row9 col3\" >48.53</td>\n",
       "                        <td id=\"T_c4561_row9_col4\" class=\"data row9 col4\" >0.52</td>\n",
       "            </tr>\n",
       "    </tbody></table>"
      ],
      "text/plain": [
       "<pandas.io.formats.style.Styler at 0x7f8d902ebb80>"
      ]
     },
     "execution_count": 13,
     "metadata": {},
     "output_type": "execute_result"
    }
   ],
   "source": [
    "# Using the aggregation method, produce the same summary statistics in a single line\n",
    "tumor_mmvss = clean_df.groupby(\"Drug Regimen\")[\"Tumor Volume (mm3)\"].agg(['mean','median','std','var','sem'])\n",
    "tumor_mmvss.style.format(style_dict)"
   ]
  },
  {
   "cell_type": "code",
   "execution_count": 14,
   "metadata": {},
   "outputs": [
    {
     "data": {
      "text/plain": [
       "249"
      ]
     },
     "execution_count": 14,
     "metadata": {},
     "output_type": "execute_result"
    }
   ],
   "source": [
    "mice = len(clean_df[\"Mouse ID\"].unique())\n",
    "mice"
   ]
  },
  {
   "cell_type": "code",
   "execution_count": 15,
   "metadata": {},
   "outputs": [
    {
     "data": {
      "text/plain": [
       "10"
      ]
     },
     "execution_count": 15,
     "metadata": {},
     "output_type": "execute_result"
    }
   ],
   "source": [
    "drugs = len(clean_df[\"Drug Regimen\"].unique())\n",
    "drugs"
   ]
  },
  {
   "cell_type": "code",
   "execution_count": 16,
   "metadata": {},
   "outputs": [
    {
     "data": {
      "text/plain": [
       "Drug Regimen\n",
       "Capomulin    230\n",
       "Ceftamin     178\n",
       "Infubinol    178\n",
       "Ketapril     188\n",
       "Naftisol     186\n",
       "Placebo      181\n",
       "Propriva     156\n",
       "Ramicane     228\n",
       "Stelasyn     181\n",
       "Zoniferol    182\n",
       "Name: Mouse ID, dtype: int64"
      ]
     },
     "execution_count": 16,
     "metadata": {},
     "output_type": "execute_result"
    }
   ],
   "source": [
    "clean_df.groupby(\"Drug Regimen\")[\"Mouse ID\"].count()"
   ]
  },
  {
   "cell_type": "markdown",
   "metadata": {},
   "source": [
    "## Bar and Pie Charts"
   ]
  },
  {
   "cell_type": "code",
   "execution_count": 17,
   "metadata": {},
   "outputs": [
    {
     "data": {
      "text/plain": [
       "Text(0, 0.5, 'Number of Tests')"
      ]
     },
     "execution_count": 17,
     "metadata": {},
     "output_type": "execute_result"
    },
    {
     "data": {
      "image/png": "[encoded data removed]",
      "text/plain": [
       "<Figure size 864x360 with 1 Axes>"
      ]
     },
     "metadata": {
      "needs_background": "light"
     },
     "output_type": "display_data"
    }
   ],
   "source": [
    "## Generate a bar plot showing the total number of mice tests on each drug regimen using pandas.\n",
    "drug_tests = clean_df.groupby(\"Drug Regimen\")[\"Mouse ID\"].count()\n",
    "mice_bars_pandas = drug_tests.plot.bar(figsize = (12, 5),title=\"Fig. 1: Mice Tests for Each Drug\",rot=0)\n",
    "\n",
    "# Set the xlabel and ylabel using class methods\n",
    "mice_bars_pandas.set_xlabel(\"Drug Regimen\")\n",
    "mice_bars_pandas.set_ylabel(\"Number of Tests\")"
   ]
  },
  {
   "cell_type": "code",
   "execution_count": 18,
   "metadata": {},
   "outputs": [
    {
     "data": {
      "image/png": "[encoded data removed]",
      "text/plain": [
       "<Figure size 864x360 with 1 Axes>"
      ]
     },
     "metadata": {
      "needs_background": "light"
     },
     "output_type": "display_data"
    }
   ],
   "source": [
    "## Generate a bar plot showing the total number of mice tests on each drug regimen using pyplot.\n",
    "drug_tests_dict = drug_tests.to_dict()\n",
    "drugs = list(drug_tests_dict.keys())\n",
    "tests = list(drug_tests_dict.values())\n",
    "\n",
    "fig = plt.figure(figsize =(12, 5))\n",
    "\n",
    "mice_bars_pyplot = plt.bar(drugs, tests,width = .5)\n",
    "\n",
    "plt.xlabel(\"Drug Regimen\")\n",
    "plt.ylabel(\"Number of Tests\")\n",
    "plt.title(\"Fig. 1: Mice Tests for Each Drug\")\n",
    "plt.show()"
   ]
  },
  {
   "cell_type": "code",
   "execution_count": 19,
   "metadata": {},
   "outputs": [
    {
     "data": {
      "text/plain": [
       "<AxesSubplot:title={'center':'Fig. 2: Mice Tested'}>"
      ]
     },
     "execution_count": 19,
     "metadata": {},
     "output_type": "execute_result"
    },
    {
     "data": {
      "image/png": "[encoded data removed]",
      "text/plain": [
       "<Figure size 864x432 with 1 Axes>"
      ]
     },
     "metadata": {},
     "output_type": "display_data"
    }
   ],
   "source": [
    "# Generate a pie plot showing the distribution of female versus male mice using pandas\n",
    "sex_tests = clean_df.groupby(\"Sex\")[\"Mouse ID\"].count()\n",
    "# sex_tests\n",
    "sex_pie_pandas = sex_tests.plot.pie(ylabel=\"\",figsize=(12, 6),autopct=\"%1.f%%\", shadow=True, startangle=140, title = \"Fig. 2: Mice Tested\")\n",
    "sex_pie_pandas"
   ]
  },
  {
   "cell_type": "code",
   "execution_count": 20,
   "metadata": {},
   "outputs": [
    {
     "data": {
      "image/png": "[encoded data removed]",
      "text/plain": [
       "<Figure size 864x432 with 1 Axes>"
      ]
     },
     "metadata": {},
     "output_type": "display_data"
    }
   ],
   "source": [
    "# Generate a pie plot showing the distribution of female versus male mice using pyplot\n",
    "sex_tests_dict = sex_tests.to_dict()\n",
    "sex = list(sex_tests_dict.keys())\n",
    "counts = list(sex_tests_dict.values())\n",
    "\n",
    "fig = plt.figure(figsize =(12, 6))\n",
    "\n",
    "plt.pie(counts, labels = sex, autopct=\"%1.f%%\", shadow=True, startangle=140)\n",
    "\n",
    "plt.title(\"Fig 2: Mice Tests for Each Drug\")\n",
    "plt.show()"
   ]
  },
  {
   "cell_type": "markdown",
   "metadata": {},
   "source": [
    "## Quartiles, Outliers and Boxplots"
   ]
  },
  {
   "cell_type": "code",
   "execution_count": 21,
   "metadata": {},
   "outputs": [
    {
     "data": {
      "text/html": [
       "<div>\n",
       "<style scoped>\n",
       "    .dataframe tbody tr th:only-of-type {\n",
       "        vertical-align: middle;\n",
       "    }\n",
       "\n",
       "    .dataframe tbody tr th {\n",
       "        vertical-align: top;\n",
       "    }\n",
       "\n",
       "    .dataframe thead th {\n",
       "        text-align: right;\n",
       "    }\n",
       "</style>\n",
       "<table border=\"1\" class=\"dataframe\">\n",
       "  <thead>\n",
       "    <tr style=\"text-align: right;\">\n",
       "      <th></th>\n",
       "      <th>Mouse ID</th>\n",
       "      <th>Timepoint</th>\n",
       "      <th>Drug Regimen</th>\n",
       "      <th>Sex</th>\n",
       "      <th>Age_months</th>\n",
       "      <th>Weight (g)</th>\n",
       "      <th>Tumor Volume (mm3)</th>\n",
       "      <th>Metastatic Sites</th>\n",
       "    </tr>\n",
       "  </thead>\n",
       "  <tbody>\n",
       "    <tr>\n",
       "      <th>0</th>\n",
       "      <td>a203</td>\n",
       "      <td>45</td>\n",
       "      <td>Infubinol</td>\n",
       "      <td>Female</td>\n",
       "      <td>20</td>\n",
       "      <td>23</td>\n",
       "      <td>67.973419</td>\n",
       "      <td>2</td>\n",
       "    </tr>\n",
       "    <tr>\n",
       "      <th>1</th>\n",
       "      <td>a251</td>\n",
       "      <td>45</td>\n",
       "      <td>Infubinol</td>\n",
       "      <td>Female</td>\n",
       "      <td>21</td>\n",
       "      <td>25</td>\n",
       "      <td>65.525743</td>\n",
       "      <td>1</td>\n",
       "    </tr>\n",
       "    <tr>\n",
       "      <th>2</th>\n",
       "      <td>a262</td>\n",
       "      <td>45</td>\n",
       "      <td>Placebo</td>\n",
       "      <td>Female</td>\n",
       "      <td>17</td>\n",
       "      <td>29</td>\n",
       "      <td>70.717621</td>\n",
       "      <td>4</td>\n",
       "    </tr>\n",
       "    <tr>\n",
       "      <th>3</th>\n",
       "      <td>a275</td>\n",
       "      <td>45</td>\n",
       "      <td>Ceftamin</td>\n",
       "      <td>Female</td>\n",
       "      <td>20</td>\n",
       "      <td>28</td>\n",
       "      <td>62.999356</td>\n",
       "      <td>3</td>\n",
       "    </tr>\n",
       "    <tr>\n",
       "      <th>4</th>\n",
       "      <td>a366</td>\n",
       "      <td>30</td>\n",
       "      <td>Stelasyn</td>\n",
       "      <td>Female</td>\n",
       "      <td>16</td>\n",
       "      <td>29</td>\n",
       "      <td>63.440686</td>\n",
       "      <td>1</td>\n",
       "    </tr>\n",
       "    <tr>\n",
       "      <th>...</th>\n",
       "      <td>...</td>\n",
       "      <td>...</td>\n",
       "      <td>...</td>\n",
       "      <td>...</td>\n",
       "      <td>...</td>\n",
       "      <td>...</td>\n",
       "      <td>...</td>\n",
       "      <td>...</td>\n",
       "    </tr>\n",
       "    <tr>\n",
       "      <th>244</th>\n",
       "      <td>z435</td>\n",
       "      <td>10</td>\n",
       "      <td>Propriva</td>\n",
       "      <td>Female</td>\n",
       "      <td>12</td>\n",
       "      <td>26</td>\n",
       "      <td>48.710661</td>\n",
       "      <td>0</td>\n",
       "    </tr>\n",
       "    <tr>\n",
       "      <th>245</th>\n",
       "      <td>z578</td>\n",
       "      <td>45</td>\n",
       "      <td>Ramicane</td>\n",
       "      <td>Male</td>\n",
       "      <td>11</td>\n",
       "      <td>16</td>\n",
       "      <td>30.638696</td>\n",
       "      <td>0</td>\n",
       "    </tr>\n",
       "    <tr>\n",
       "      <th>246</th>\n",
       "      <td>z581</td>\n",
       "      <td>45</td>\n",
       "      <td>Infubinol</td>\n",
       "      <td>Female</td>\n",
       "      <td>24</td>\n",
       "      <td>25</td>\n",
       "      <td>62.754451</td>\n",
       "      <td>3</td>\n",
       "    </tr>\n",
       "    <tr>\n",
       "      <th>247</th>\n",
       "      <td>z795</td>\n",
       "      <td>45</td>\n",
       "      <td>Naftisol</td>\n",
       "      <td>Female</td>\n",
       "      <td>13</td>\n",
       "      <td>29</td>\n",
       "      <td>65.741070</td>\n",
       "      <td>3</td>\n",
       "    </tr>\n",
       "    <tr>\n",
       "      <th>248</th>\n",
       "      <td>z969</td>\n",
       "      <td>45</td>\n",
       "      <td>Naftisol</td>\n",
       "      <td>Male</td>\n",
       "      <td>9</td>\n",
       "      <td>30</td>\n",
       "      <td>73.867845</td>\n",
       "      <td>4</td>\n",
       "    </tr>\n",
       "  </tbody>\n",
       "</table>\n",
       "<p>249 rows × 8 columns</p>\n",
       "</div>"
      ],
      "text/plain": [
       "    Mouse ID  Timepoint Drug Regimen     Sex  Age_months  Weight (g)  \\\n",
       "0       a203         45    Infubinol  Female          20          23   \n",
       "1       a251         45    Infubinol  Female          21          25   \n",
       "2       a262         45      Placebo  Female          17          29   \n",
       "3       a275         45     Ceftamin  Female          20          28   \n",
       "4       a366         30     Stelasyn  Female          16          29   \n",
       "..       ...        ...          ...     ...         ...         ...   \n",
       "244     z435         10     Propriva  Female          12          26   \n",
       "245     z578         45     Ramicane    Male          11          16   \n",
       "246     z581         45    Infubinol  Female          24          25   \n",
       "247     z795         45     Naftisol  Female          13          29   \n",
       "248     z969         45     Naftisol    Male           9          30   \n",
       "\n",
       "     Tumor Volume (mm3)  Metastatic Sites  \n",
       "0             67.973419                 2  \n",
       "1             65.525743                 1  \n",
       "2             70.717621                 4  \n",
       "3             62.999356                 3  \n",
       "4             63.440686                 1  \n",
       "..                  ...               ...  \n",
       "244           48.710661                 0  \n",
       "245           30.638696                 0  \n",
       "246           62.754451                 3  \n",
       "247           65.741070                 3  \n",
       "248           73.867845                 4  \n",
       "\n",
       "[249 rows x 8 columns]"
      ]
     },
     "execution_count": 21,
     "metadata": {},
     "output_type": "execute_result"
    }
   ],
   "source": [
    "# Calculate the final tumor volume of each mouse across four of the treatment regimens:  \n",
    "# Capomulin, Ramicane, Infubinol, and Ceftamin\n",
    "\n",
    "# Start by getting the last (greatest) timepoint for each mouse\n",
    "time_df = clean_df.groupby(\"Mouse ID\")[\"Timepoint\"].max().reset_index()\n",
    "\n",
    "# Merge this group df with the original dataframe to get the tumor volume at the last timepoint\n",
    "final_time_df = pd.merge(time_df,clean_df,how=\"left\",on=[\"Mouse ID\",\"Timepoint\"])\n",
    "final_time_df #only mouse IDs at the final timepoint"
   ]
  },
  {
   "cell_type": "code",
   "execution_count": 22,
   "metadata": {},
   "outputs": [
    {
     "name": "stdout",
     "output_type": "stream",
     "text": [
      "Capomulin outliers = []\n",
      "Ramicane outliers = []\n",
      "Infubinol outliers = [36.3213458]\n",
      "Ceftamin outliers = []\n"
     ]
    },
    {
     "data": {
      "text/plain": [
       "[19     38.982878\n",
       " 24     38.939633\n",
       " 61     30.485985\n",
       " 64     37.074024\n",
       " 66     40.159220\n",
       " 81     47.685963\n",
       " 84     37.311846\n",
       " 86     38.125164\n",
       " 88     38.753265\n",
       " 109    41.483008\n",
       " 116    38.846876\n",
       " 122    28.430964\n",
       " 125    33.329098\n",
       " 163    46.539206\n",
       " 164    32.377357\n",
       " 170    41.581521\n",
       " 175    23.343598\n",
       " 181    40.728578\n",
       " 184    34.455298\n",
       " 193    31.023923\n",
       " 205    40.658124\n",
       " 209    39.952347\n",
       " 221    36.041047\n",
       " 227    28.484033\n",
       " 240    31.896238\n",
       " Name: Tumor Volume (mm3), dtype: float64,\n",
       " 6      38.407618\n",
       " 7      43.047543\n",
       " 10     38.810366\n",
       " 12     32.978522\n",
       " 33     38.342008\n",
       " 37     33.397653\n",
       " 45     37.311236\n",
       " 52     40.659006\n",
       " 70     29.128472\n",
       " 77     33.562402\n",
       " 78     36.374510\n",
       " 92     31.560470\n",
       " 94     36.134852\n",
       " 97     22.050126\n",
       " 120    30.564625\n",
       " 127    31.095335\n",
       " 158    45.220869\n",
       " 159    36.561652\n",
       " 167    37.225650\n",
       " 169    43.419381\n",
       " 178    30.276232\n",
       " 191    40.667713\n",
       " 218    43.166373\n",
       " 236    44.183451\n",
       " 245    30.638696\n",
       " Name: Tumor Volume (mm3), dtype: float64,\n",
       " 0      67.973419\n",
       " 1      65.525743\n",
       " 11     57.031862\n",
       " 13     66.083066\n",
       " 27     72.226731\n",
       " 31     36.321346\n",
       " 41     60.969711\n",
       " 50     62.435404\n",
       " 56     60.918767\n",
       " 79     67.289621\n",
       " 98     66.196912\n",
       " 102    62.117279\n",
       " 124    47.010364\n",
       " 130    60.165180\n",
       " 142    55.629428\n",
       " 143    45.699331\n",
       " 154    54.656549\n",
       " 171    55.650681\n",
       " 198    46.250112\n",
       " 201    54.048608\n",
       " 203    51.542431\n",
       " 212    50.005138\n",
       " 217    58.268442\n",
       " 234    67.685569\n",
       " 246    62.754451\n",
       " Name: Tumor Volume (mm3), dtype: float64,\n",
       " 3      62.999356\n",
       " 21     45.000000\n",
       " 22     56.057749\n",
       " 25     55.742829\n",
       " 58     48.722078\n",
       " 76     47.784682\n",
       " 89     61.849023\n",
       " 95     68.923185\n",
       " 107    67.748662\n",
       " 108    57.918381\n",
       " 110    46.784535\n",
       " 111    59.851956\n",
       " 114    64.299830\n",
       " 135    59.741901\n",
       " 151    61.433892\n",
       " 155    64.192341\n",
       " 185    45.000000\n",
       " 189    52.925348\n",
       " 190    45.000000\n",
       " 210    67.527482\n",
       " 224    45.000000\n",
       " 229    64.634949\n",
       " 232    61.386660\n",
       " 239    68.594745\n",
       " 241    64.729837\n",
       " Name: Tumor Volume (mm3), dtype: float64]"
      ]
     },
     "execution_count": 22,
     "metadata": {},
     "output_type": "execute_result"
    }
   ],
   "source": [
    "# Put treatments into a list for for loop (and later for plot labels)\n",
    "treatment_list = [\"Capomulin\", \"Ramicane\", \"Infubinol\", \"Ceftamin\"]\n",
    "    \n",
    "\n",
    "# Create empty list to fill with tumor vol data (for plotting)\n",
    "tumor_vol_data = []\n",
    "\n",
    "final_time_df.loc[:, \"Drug Regimen\"]\n",
    "\n",
    "# Calculate the IterQuartileRange and quantitatively determine if there are any potential outliers. \n",
    "for drug in treatment_list:\n",
    "    tumor_vol = final_time_df.loc[final_time_df[\"Drug Regimen\"]==drug, \"Tumor Volume (mm3)\"]\n",
    "    tumor_vol_data.append(tumor_vol)\n",
    "\n",
    "\n",
    "    # Determine outliers using upper and lower bounds\n",
    "    quartiles = tumor_vol.quantile([.25,.5,.75])\n",
    "    lowq = quartiles[.25]\n",
    "    upq = quartiles[.75]\n",
    "    inqr = upq - lowq\n",
    "    lower_bound = lowq - (1.5*inqr)\n",
    "    upper_bound = upq + (1.5*inqr)\n",
    "    outliers = tumor_vol.loc[(tumor_vol<lower_bound)|(tumor_vol>upper_bound)]\n",
    "    print(f\"{drug} outliers = {outliers.values}\")\n",
    "\n",
    "tumor_vol_data"
   ]
  },
  {
   "cell_type": "code",
   "execution_count": 23,
   "metadata": {},
   "outputs": [
    {
     "data": {
      "image/png": "[encoded data removed]",
      "text/plain": [
       "<Figure size 864x432 with 1 Axes>"
      ]
     },
     "metadata": {
      "needs_background": "light"
     },
     "output_type": "display_data"
    }
   ],
   "source": [
    "# Generate a box plot of the final tumor volume of each mouse across four regimens of interest\n",
    "fig = plt.figure(figsize =(12, 6))\n",
    "\n",
    "drug_outliers = dict(markerfacecolor=\"blue\", markersize=12) # Do not completely understand this yet\n",
    "plt.boxplot(tumor_vol_data, labels=treatment_list,flierprops=drug_outliers)\n",
    "plt.ylabel(\"Final Tumor Volume (mm3)\")\n",
    "plt.title(\"Fig. 3: Summary of 4 Drug Regimens\")\n",
    "plt.show()"
   ]
  },
  {
   "cell_type": "markdown",
   "metadata": {},
   "source": [
    "## Line and Scatter Plots"
   ]
  },
  {
   "cell_type": "code",
   "execution_count": 24,
   "metadata": {},
   "outputs": [
    {
     "data": {
      "text/html": [
       "<style  type=\"text/css\" >\n",
       "</style><table id=\"T_c5ad5_\" ><thead>    <tr>        <th class=\"blank level0\" ></th>        <th class=\"col_heading level0 col0\" >Mouse ID</th>        <th class=\"col_heading level0 col1\" >Drug Regimen</th>        <th class=\"col_heading level0 col2\" >Timepoint</th>        <th class=\"col_heading level0 col3\" >Tumor Volume (mm3)</th>    </tr></thead><tbody>\n",
       "                <tr>\n",
       "                        <th id=\"T_c5ad5_level0_row0\" class=\"row_heading level0 row0\" >10</th>\n",
       "                        <td id=\"T_c5ad5_row0_col0\" class=\"data row0 col0\" >s185</td>\n",
       "                        <td id=\"T_c5ad5_row0_col1\" class=\"data row0 col1\" >Capomulin</td>\n",
       "                        <td id=\"T_c5ad5_row0_col2\" class=\"data row0 col2\" >0</td>\n",
       "                        <td id=\"T_c5ad5_row0_col3\" class=\"data row0 col3\" >45.000</td>\n",
       "            </tr>\n",
       "            <tr>\n",
       "                        <th id=\"T_c5ad5_level0_row1\" class=\"row_heading level0 row1\" >11</th>\n",
       "                        <td id=\"T_c5ad5_row1_col0\" class=\"data row1 col0\" >s185</td>\n",
       "                        <td id=\"T_c5ad5_row1_col1\" class=\"data row1 col1\" >Capomulin</td>\n",
       "                        <td id=\"T_c5ad5_row1_col2\" class=\"data row1 col2\" >5</td>\n",
       "                        <td id=\"T_c5ad5_row1_col3\" class=\"data row1 col3\" >43.878</td>\n",
       "            </tr>\n",
       "            <tr>\n",
       "                        <th id=\"T_c5ad5_level0_row2\" class=\"row_heading level0 row2\" >12</th>\n",
       "                        <td id=\"T_c5ad5_row2_col0\" class=\"data row2 col0\" >s185</td>\n",
       "                        <td id=\"T_c5ad5_row2_col1\" class=\"data row2 col1\" >Capomulin</td>\n",
       "                        <td id=\"T_c5ad5_row2_col2\" class=\"data row2 col2\" >10</td>\n",
       "                        <td id=\"T_c5ad5_row2_col3\" class=\"data row2 col3\" >37.615</td>\n",
       "            </tr>\n",
       "            <tr>\n",
       "                        <th id=\"T_c5ad5_level0_row3\" class=\"row_heading level0 row3\" >13</th>\n",
       "                        <td id=\"T_c5ad5_row3_col0\" class=\"data row3 col0\" >s185</td>\n",
       "                        <td id=\"T_c5ad5_row3_col1\" class=\"data row3 col1\" >Capomulin</td>\n",
       "                        <td id=\"T_c5ad5_row3_col2\" class=\"data row3 col2\" >15</td>\n",
       "                        <td id=\"T_c5ad5_row3_col3\" class=\"data row3 col3\" >38.177</td>\n",
       "            </tr>\n",
       "            <tr>\n",
       "                        <th id=\"T_c5ad5_level0_row4\" class=\"row_heading level0 row4\" >14</th>\n",
       "                        <td id=\"T_c5ad5_row4_col0\" class=\"data row4 col0\" >s185</td>\n",
       "                        <td id=\"T_c5ad5_row4_col1\" class=\"data row4 col1\" >Capomulin</td>\n",
       "                        <td id=\"T_c5ad5_row4_col2\" class=\"data row4 col2\" >20</td>\n",
       "                        <td id=\"T_c5ad5_row4_col3\" class=\"data row4 col3\" >36.867</td>\n",
       "            </tr>\n",
       "            <tr>\n",
       "                        <th id=\"T_c5ad5_level0_row5\" class=\"row_heading level0 row5\" >15</th>\n",
       "                        <td id=\"T_c5ad5_row5_col0\" class=\"data row5 col0\" >s185</td>\n",
       "                        <td id=\"T_c5ad5_row5_col1\" class=\"data row5 col1\" >Capomulin</td>\n",
       "                        <td id=\"T_c5ad5_row5_col2\" class=\"data row5 col2\" >25</td>\n",
       "                        <td id=\"T_c5ad5_row5_col3\" class=\"data row5 col3\" >33.950</td>\n",
       "            </tr>\n",
       "            <tr>\n",
       "                        <th id=\"T_c5ad5_level0_row6\" class=\"row_heading level0 row6\" >16</th>\n",
       "                        <td id=\"T_c5ad5_row6_col0\" class=\"data row6 col0\" >s185</td>\n",
       "                        <td id=\"T_c5ad5_row6_col1\" class=\"data row6 col1\" >Capomulin</td>\n",
       "                        <td id=\"T_c5ad5_row6_col2\" class=\"data row6 col2\" >30</td>\n",
       "                        <td id=\"T_c5ad5_row6_col3\" class=\"data row6 col3\" >32.960</td>\n",
       "            </tr>\n",
       "            <tr>\n",
       "                        <th id=\"T_c5ad5_level0_row7\" class=\"row_heading level0 row7\" >17</th>\n",
       "                        <td id=\"T_c5ad5_row7_col0\" class=\"data row7 col0\" >s185</td>\n",
       "                        <td id=\"T_c5ad5_row7_col1\" class=\"data row7 col1\" >Capomulin</td>\n",
       "                        <td id=\"T_c5ad5_row7_col2\" class=\"data row7 col2\" >35</td>\n",
       "                        <td id=\"T_c5ad5_row7_col3\" class=\"data row7 col3\" >28.329</td>\n",
       "            </tr>\n",
       "            <tr>\n",
       "                        <th id=\"T_c5ad5_level0_row8\" class=\"row_heading level0 row8\" >18</th>\n",
       "                        <td id=\"T_c5ad5_row8_col0\" class=\"data row8 col0\" >s185</td>\n",
       "                        <td id=\"T_c5ad5_row8_col1\" class=\"data row8 col1\" >Capomulin</td>\n",
       "                        <td id=\"T_c5ad5_row8_col2\" class=\"data row8 col2\" >40</td>\n",
       "                        <td id=\"T_c5ad5_row8_col3\" class=\"data row8 col3\" >25.472</td>\n",
       "            </tr>\n",
       "            <tr>\n",
       "                        <th id=\"T_c5ad5_level0_row9\" class=\"row_heading level0 row9\" >19</th>\n",
       "                        <td id=\"T_c5ad5_row9_col0\" class=\"data row9 col0\" >s185</td>\n",
       "                        <td id=\"T_c5ad5_row9_col1\" class=\"data row9 col1\" >Capomulin</td>\n",
       "                        <td id=\"T_c5ad5_row9_col2\" class=\"data row9 col2\" >45</td>\n",
       "                        <td id=\"T_c5ad5_row9_col3\" class=\"data row9 col3\" >23.344</td>\n",
       "            </tr>\n",
       "    </tbody></table>"
      ],
      "text/plain": [
       "<pandas.io.formats.style.Styler at 0x7f8dc2a643a0>"
      ]
     },
     "execution_count": 24,
     "metadata": {},
     "output_type": "execute_result"
    }
   ],
   "source": [
    "# Collect data for a line plot of tumor volume vs. time point for a mouse treated with Capomulin\n",
    "capo_data = clean_df[(clean_df[\"Drug Regimen\"]=='Capomulin')].drop(columns=['Sex', 'Age_months', 'Weight (g)', 'Metastatic Sites'])\n",
    "mouse_capo_data = capo_data[(capo_data[\"Mouse ID\"]=='s185')]\n",
    "mouse_capo_data.style.format(style_dict)"
   ]
  },
  {
   "cell_type": "code",
   "execution_count": 25,
   "metadata": {},
   "outputs": [
    {
     "data": {
      "text/plain": [
       "Text(0.5, 1.0, 'Fig. 4: Capomulin Regimen on Mouse  s185')"
      ]
     },
     "execution_count": 25,
     "metadata": {},
     "output_type": "execute_result"
    },
    {
     "data": {
      "image/png": "[encoded data removed]",
      "text/plain": [
       "<Figure size 864x432 with 1 Axes>"
      ]
     },
     "metadata": {
      "needs_background": "light"
     },
     "output_type": "display_data"
    }
   ],
   "source": [
    "# Generate a line plot of tumor volume vs. time point for a mouse treated with Capomulin\n",
    "fig = plt.figure(figsize =(12, 6))\n",
    "\n",
    "time_cap_s185 = mouse_capo_data[\"Timepoint\"]\n",
    "time_cap_s185\n",
    "\n",
    "tumor_cap_s185 = mouse_capo_data[\"Tumor Volume (mm3)\"]\n",
    "tumor_cap_s185\n",
    "\n",
    "mouse_capo_liner = plt.plot(time_cap_s185, tumor_cap_s185, color=\"blue\")\n",
    "plt.ylabel(\"Tumor Volume (mm3)\")\n",
    "plt.xlabel(\"Timepoint (days)\")\n",
    "plt.title(\"Fig. 4: Capomulin Regimen on Mouse  s185\")"
   ]
  },
  {
   "cell_type": "code",
   "execution_count": 26,
   "metadata": {},
   "outputs": [
    {
     "data": {
      "text/plain": [
       "Text(0.5, 1.0, 'Fig. 4a: Capomulin Regimen on Sample of 60 Mice')"
      ]
     },
     "execution_count": 26,
     "metadata": {},
     "output_type": "execute_result"
    },
    {
     "data": {
      "image/png": "[encoded data removed]",
      "text/plain": [
       "<Figure size 864x432 with 1 Axes>"
      ]
     },
     "metadata": {
      "needs_background": "light"
     },
     "output_type": "display_data"
    }
   ],
   "source": [
    "## Create sample set of mice treated with Capomulin\n",
    "subset = capo_data.sample(60)\n",
    "subset\n",
    "\n",
    "## Generate a scatter plot of tumor volume vs. time point for sample of mice treated with Capomulin\n",
    "fig = plt.figure(figsize =(12, 6))\n",
    "\n",
    "time_cap_sample60 = subset[\"Timepoint\"]\n",
    "time_cap_sample60\n",
    "\n",
    "tumor_cap_sample60 = subset[\"Tumor Volume (mm3)\"]\n",
    "tumor_cap_sample60\n",
    "\n",
    "sample60_capo_liner = plt.scatter(time_cap_sample60, tumor_cap_sample60, color=\"purple\")\n",
    "plt.ylabel(\"Tumor Volume (mm3)\")\n",
    "plt.xlabel(\"Timepoint (days)\")\n",
    "plt.title(\"Fig. 4a: Capomulin Regimen on Sample of 60 Mice\")"
   ]
  },
  {
   "cell_type": "code",
   "execution_count": 27,
   "metadata": {},
   "outputs": [
    {
     "data": {
      "text/html": [
       "<div>\n",
       "<style scoped>\n",
       "    .dataframe tbody tr th:only-of-type {\n",
       "        vertical-align: middle;\n",
       "    }\n",
       "\n",
       "    .dataframe tbody tr th {\n",
       "        vertical-align: top;\n",
       "    }\n",
       "\n",
       "    .dataframe thead th {\n",
       "        text-align: right;\n",
       "    }\n",
       "</style>\n",
       "<table border=\"1\" class=\"dataframe\">\n",
       "  <thead>\n",
       "    <tr style=\"text-align: right;\">\n",
       "      <th></th>\n",
       "      <th>Mouse ID</th>\n",
       "      <th>Drug Regimen</th>\n",
       "      <th>Weight (g)</th>\n",
       "      <th>Tumor Volume (mm3)</th>\n",
       "    </tr>\n",
       "  </thead>\n",
       "  <tbody>\n",
       "    <tr>\n",
       "      <th>10</th>\n",
       "      <td>s185</td>\n",
       "      <td>Capomulin</td>\n",
       "      <td>17</td>\n",
       "      <td>45.000000</td>\n",
       "    </tr>\n",
       "    <tr>\n",
       "      <th>11</th>\n",
       "      <td>s185</td>\n",
       "      <td>Capomulin</td>\n",
       "      <td>17</td>\n",
       "      <td>43.878496</td>\n",
       "    </tr>\n",
       "    <tr>\n",
       "      <th>12</th>\n",
       "      <td>s185</td>\n",
       "      <td>Capomulin</td>\n",
       "      <td>17</td>\n",
       "      <td>37.614948</td>\n",
       "    </tr>\n",
       "    <tr>\n",
       "      <th>13</th>\n",
       "      <td>s185</td>\n",
       "      <td>Capomulin</td>\n",
       "      <td>17</td>\n",
       "      <td>38.177232</td>\n",
       "    </tr>\n",
       "    <tr>\n",
       "      <th>14</th>\n",
       "      <td>s185</td>\n",
       "      <td>Capomulin</td>\n",
       "      <td>17</td>\n",
       "      <td>36.866876</td>\n",
       "    </tr>\n",
       "    <tr>\n",
       "      <th>...</th>\n",
       "      <td>...</td>\n",
       "      <td>...</td>\n",
       "      <td>...</td>\n",
       "      <td>...</td>\n",
       "    </tr>\n",
       "    <tr>\n",
       "      <th>440</th>\n",
       "      <td>i557</td>\n",
       "      <td>Capomulin</td>\n",
       "      <td>24</td>\n",
       "      <td>47.685963</td>\n",
       "    </tr>\n",
       "    <tr>\n",
       "      <th>1452</th>\n",
       "      <td>r157</td>\n",
       "      <td>Capomulin</td>\n",
       "      <td>25</td>\n",
       "      <td>45.000000</td>\n",
       "    </tr>\n",
       "    <tr>\n",
       "      <th>1453</th>\n",
       "      <td>r157</td>\n",
       "      <td>Capomulin</td>\n",
       "      <td>25</td>\n",
       "      <td>45.597064</td>\n",
       "    </tr>\n",
       "    <tr>\n",
       "      <th>1454</th>\n",
       "      <td>r157</td>\n",
       "      <td>Capomulin</td>\n",
       "      <td>25</td>\n",
       "      <td>46.059608</td>\n",
       "    </tr>\n",
       "    <tr>\n",
       "      <th>1455</th>\n",
       "      <td>r157</td>\n",
       "      <td>Capomulin</td>\n",
       "      <td>25</td>\n",
       "      <td>46.539206</td>\n",
       "    </tr>\n",
       "  </tbody>\n",
       "</table>\n",
       "<p>230 rows × 4 columns</p>\n",
       "</div>"
      ],
      "text/plain": [
       "     Mouse ID Drug Regimen  Weight (g)  Tumor Volume (mm3)\n",
       "10       s185    Capomulin          17           45.000000\n",
       "11       s185    Capomulin          17           43.878496\n",
       "12       s185    Capomulin          17           37.614948\n",
       "13       s185    Capomulin          17           38.177232\n",
       "14       s185    Capomulin          17           36.866876\n",
       "...       ...          ...         ...                 ...\n",
       "440      i557    Capomulin          24           47.685963\n",
       "1452     r157    Capomulin          25           45.000000\n",
       "1453     r157    Capomulin          25           45.597064\n",
       "1454     r157    Capomulin          25           46.059608\n",
       "1455     r157    Capomulin          25           46.539206\n",
       "\n",
       "[230 rows x 4 columns]"
      ]
     },
     "execution_count": 27,
     "metadata": {},
     "output_type": "execute_result"
    }
   ],
   "source": [
    "# Collect data for a scatter plot of average tumor volume vs. mouse weight for the Capomulin regimen\n",
    "weight_capo_data = clean_df[(clean_df[\"Drug Regimen\"]=='Capomulin')].drop(columns=['Sex', 'Age_months', 'Timepoint', 'Metastatic Sites'])\n",
    "weight_capo_data"
   ]
  },
  {
   "cell_type": "code",
   "execution_count": 48,
   "metadata": {},
   "outputs": [
    {
     "name": "stdout",
     "output_type": "stream",
     "text": [
      "The correlation between average tumor volume and mouse weight is 0.84\n"
     ]
    },
    {
     "data": {
      "image/png": "[encoded data removed]",
      "text/plain": [
       "<Figure size 576x432 with 1 Axes>"
      ]
     },
     "metadata": {
      "needs_background": "light"
     },
     "output_type": "display_data"
    }
   ],
   "source": [
    "# Generate a scatter plot of average tumor volume vs. mouse weight for the Capomulin regimen\n",
    "fig = plt.figure(figsize =(8, 6))\n",
    "\n",
    "avg_weight_capo = weight_capo_data.groupby(\"Mouse ID\")['Weight (g)'].mean()\n",
    "avg_weight_capo\n",
    "\n",
    "avg_tumor_capo = weight_capo_data.groupby(\"Mouse ID\")[\"Tumor Volume (mm3)\"].mean()\n",
    "avg_tumor_capo\n",
    "\n",
    "plt.scatter(avg_weight_capo,avg_tumor_capo)\n",
    "plt.ylabel(\"Average Tumor Volume (mm3)\")\n",
    "plt.xlabel('Average Weight (g)')\n",
    "plt.title(\"Fig. 5: Capomulin Tumor Volume vs. Mouse Weight\")\n",
    "\n",
    "# Calculate the correlation coefficient for mouse weight and average tumor volume for the Capomulin regimen\n",
    "correlation_capo = st.pearsonr(avg_weight_capo,avg_tumor_capo)\n",
    "print(f\"The correlation between average tumor volume and mouse weight is {round(correlation_capo[0],2)}\")"
   ]
  },
  {
   "cell_type": "markdown",
   "metadata": {},
   "source": [
    "## Correlation and Regression"
   ]
  },
  {
   "cell_type": "code",
   "execution_count": 29,
   "metadata": {},
   "outputs": [
    {
     "name": "stdout",
     "output_type": "stream",
     "text": [
      "The correlation between average tumor volume and mouse weight is 0.84\n"
     ]
    }
   ],
   "source": []
  },
  {
   "cell_type": "code",
   "execution_count": 30,
   "metadata": {},
   "outputs": [
    {
     "data": {
      "text/plain": [
       "Text(0.5, 1.0, 'Fig. 6: Capomulin Tumor Volume vs. Mouse Weight Regression')"
      ]
     },
     "execution_count": 30,
     "metadata": {},
     "output_type": "execute_result"
    },
    {
     "data": {
      "image/png": "[encoded data removed]",
      "text/plain": [
       "<Figure size 576x432 with 1 Axes>"
      ]
     },
     "metadata": {
      "needs_background": "light"
     },
     "output_type": "display_data"
    }
   ],
   "source": [
    "# Calculate the linear regression model for mouse weight and average tumor volume for the Capomulin regimen\n",
    "fig = plt.figure(figsize =(8, 6))\n",
    "\n",
    "x_values = avg_tumor_capo\n",
    "y_values = avg_weight_capo\n",
    "(slope, intercept, rvalue, pvalue, stderr) = linregress(x_values, y_values)\n",
    "regress_values = x_values * slope + intercept\n",
    "line_eq = \"y = \" + str(round(slope,2)) + \"x + \" + str(round(intercept,2))\n",
    "\n",
    "plt.scatter(x_values,y_values)\n",
    "plt.plot(x_values,regress_values,\"r-\")\n",
    "plt.annotate(line_eq,(6,10),fontsize=15,color=\"red\")\n",
    "plt.xlabel('Average Weight (g)')\n",
    "plt.ylabel(\"Average Tumor Volume (mm3)\")\n",
    "plt.title(\"Fig. 6: Capomulin Tumor Volume vs. Mouse Weight Regression\")"
   ]
  },
  {
   "cell_type": "markdown",
   "metadata": {},
   "source": [
    "## Additional Data"
   ]
  },
  {
   "cell_type": "code",
   "execution_count": 43,
   "metadata": {},
   "outputs": [
    {
     "data": {
      "text/plain": [
       "Text(0.5, 1.0, 'Fig. 7: Capomulin Regimen on All Mice')"
      ]
     },
     "execution_count": 43,
     "metadata": {},
     "output_type": "execute_result"
    },
    {
     "data": {
      "image/png": "[encoded data removed]",
      "text/plain": [
       "<Figure size 864x432 with 1 Axes>"
      ]
     },
     "metadata": {
      "needs_background": "light"
     },
     "output_type": "display_data"
    }
   ],
   "source": [
    "# Collect data for a line plot of tumor volume vs. time point for all mice treated with Capomulin\n",
    "capo_data = clean_df[(clean_df[\"Drug Regimen\"]=='Capomulin')].drop(columns=['Sex', 'Age_months', 'Weight (g)', 'Metastatic Sites'])\n",
    "capo_data\n",
    "\n",
    "fig = plt.figure(figsize =(12, 6))\n",
    "\n",
    "time_cap_all = capo_data[\"Timepoint\"]\n",
    "time_cap_all\n",
    "\n",
    "tumor_cap_all = capo_data[\"Tumor Volume (mm3)\"]\n",
    "tumor_cap_all\n",
    "\n",
    "capo_liner = plt.scatter(time_cap_all, tumor_cap_all)\n",
    "plt.ylabel(\"Tumor Volume (mm3)\")\n",
    "plt.xlabel(\"Timepoint (days)\")\n",
    "plt.title(\"Fig. 7: Capomulin Regimen on All Mice\")"
   ]
  },
  {
   "cell_type": "code",
   "execution_count": 44,
   "metadata": {},
   "outputs": [
    {
     "data": {
      "text/plain": [
       "Text(0.5, 1.0, 'Fig. 8: Ramicane Regimen on All Mice')"
      ]
     },
     "execution_count": 44,
     "metadata": {},
     "output_type": "execute_result"
    },
    {
     "data": {
      "image/png": "[encoded data removed]",
      "text/plain": [
       "<Figure size 864x432 with 1 Axes>"
      ]
     },
     "metadata": {
      "needs_background": "light"
     },
     "output_type": "display_data"
    }
   ],
   "source": [
    "# Collect data for a line plot of tumor volume vs. time point for all mice treated with Capomulin\n",
    "rami_data = clean_df[(clean_df[\"Drug Regimen\"]=='Ramicane')].drop(columns=['Sex', 'Age_months', 'Weight (g)', 'Metastatic Sites'])\n",
    "rami_data.style.format(style_dict)\n",
    "\n",
    "fig = plt.figure(figsize =(12, 6))\n",
    "\n",
    "time_rami_all = rami_data[\"Timepoint\"]\n",
    "time_rami_all\n",
    "\n",
    "tumor_rami_all = rami_data[\"Tumor Volume (mm3)\"]\n",
    "tumor_rami_all\n",
    "\n",
    "rami_liner = plt.scatter(time_rami_all, tumor_rami_all)\n",
    "plt.ylabel(\"Tumor Volume (mm3)\")\n",
    "plt.xlabel(\"Timepoint (days)\")\n",
    "plt.title(\"Fig. 8: Ramicane Regimen on All Mice\")"
   ]
  },
  {
   "cell_type": "code",
   "execution_count": 46,
   "metadata": {},
   "outputs": [
    {
     "name": "stdout",
     "output_type": "stream",
     "text": [
      "The correlation between average tumor volume and mouse weight is 0.81\n"
     ]
    },
    {
     "data": {
      "image/png": "[encoded data removed]",
      "text/plain": [
       "<Figure size 576x432 with 1 Axes>"
      ]
     },
     "metadata": {
      "needs_background": "light"
     },
     "output_type": "display_data"
    }
   ],
   "source": [
    "fig = plt.figure(figsize =(8, 6))\n",
    "\n",
    "# Collect data for a scatter plot of average tumor volume vs. mouse weight for the Capomulin regimen\n",
    "weight_rami_data = clean_df[(clean_df[\"Drug Regimen\"]=='Ramicane')].drop(columns=['Sex', 'Age_months', 'Timepoint', 'Metastatic Sites'])\n",
    "weight_rami_data\n",
    "\n",
    "avg_weight_rami = weight_rami_data.groupby(\"Mouse ID\")['Weight (g)'].mean()\n",
    "avg_weight_rami\n",
    "\n",
    "avg_tumor_rami = weight_rami_data.groupby(\"Mouse ID\")[\"Tumor Volume (mm3)\"].mean()\n",
    "avg_tumor_rami\n",
    "\n",
    "plt.scatter(avg_weight_capo,avg_tumor_capo)\n",
    "plt.ylabel(\"Average Tumor Volume (mm3)\")\n",
    "plt.xlabel('Average Weight (g)')\n",
    "plt.title(\"Fig. 9: Ramicane Tumor Volume vs. Mouse Weight\")\n",
    "\n",
    "correlation_rami = st.pearsonr(avg_weight_rami,avg_tumor_rami)\n",
    "print(f\"The correlation between average tumor volume and mouse weight is {round(correlation_rami[0],2)}\")"
   ]
  },
  {
   "cell_type": "code",
   "execution_count": 35,
   "metadata": {},
   "outputs": [
    {
     "name": "stdout",
     "output_type": "stream",
     "text": [
      "The Capomulin correlation between average tumor volume and mouse weight is 0.84\n",
      "The Ramicane correlation between average tumor volume and mouse weight is 0.81\n",
      "The Ceftamin correlation between average tumor volume and mouse weight is -0.04\n",
      "The Infubinol correlation between average tumor volume and mouse weight is -0.06\n",
      "The Placebo correlation between average tumor volume and mouse weight is -0.17\n"
     ]
    }
   ],
   "source": [
    "# Collect data for a scatter plot of average tumor volume vs. mouse weight for the Ceftamin regimen\n",
    "\n",
    "#____Capomulin\n",
    "weight_capo_data = clean_df[(clean_df[\"Drug Regimen\"]=='Capomulin')].drop(columns=['Sex', 'Age_months', 'Timepoint', 'Metastatic Sites'])\n",
    "weight_capo_data\n",
    "\n",
    "avg_weight_capo = weight_capo_data.groupby(\"Mouse ID\")['Weight (g)'].mean()\n",
    "avg_weight_capo\n",
    "\n",
    "avg_tumor_capo = weight_capo_data.groupby(\"Mouse ID\")[\"Tumor Volume (mm3)\"].mean()\n",
    "avg_tumor_capo\n",
    "\n",
    "\n",
    "#____Ramicane\n",
    "weight_rami_data = clean_df[(clean_df[\"Drug Regimen\"]=='Ramicane')].drop(columns=['Sex', 'Age_months', 'Timepoint', 'Metastatic Sites'])\n",
    "weight_rami_data\n",
    "\n",
    "avg_weight_rami = weight_rami_data.groupby(\"Mouse ID\")['Weight (g)'].mean()\n",
    "avg_weight_rami\n",
    "\n",
    "avg_tumor_rami = weight_rami_data.groupby(\"Mouse ID\")[\"Tumor Volume (mm3)\"].mean()\n",
    "avg_tumor_rami\n",
    "\n",
    "\n",
    "#____Ceftamin\n",
    "weight_ceft_data = clean_df[(clean_df[\"Drug Regimen\"]==\"Ceftamin\")].drop(columns=['Sex', 'Age_months', 'Timepoint', 'Metastatic Sites'])\n",
    "weight_ceft_data\n",
    "\n",
    "avg_weight_ceft = weight_ceft_data.groupby(\"Mouse ID\")['Weight (g)'].mean()\n",
    "avg_weight_ceft\n",
    "\n",
    "avg_tumor_ceft = weight_ceft_data.groupby(\"Mouse ID\")[\"Tumor Volume (mm3)\"].mean()\n",
    "avg_tumor_ceft\n",
    "\n",
    "\n",
    "#____Infubinol\n",
    "weight_infu_data = clean_df[(clean_df[\"Drug Regimen\"]==\"Infubinol\")].drop(columns=['Sex', 'Age_months', 'Timepoint', 'Metastatic Sites'])\n",
    "weight_infu_data\n",
    "\n",
    "avg_weight_infu = weight_infu_data.groupby(\"Mouse ID\")['Weight (g)'].mean()\n",
    "avg_weight_infu\n",
    "\n",
    "avg_tumor_infu = weight_infu_data.groupby(\"Mouse ID\")[\"Tumor Volume (mm3)\"].mean()\n",
    "avg_tumor_infu\n",
    "\n",
    "\n",
    "#____Placebo\n",
    "weight_plac_data = clean_df[(clean_df[\"Drug Regimen\"]==\"Placebo\")].drop(columns=['Sex', 'Age_months', 'Timepoint', 'Metastatic Sites'])\n",
    "weight_plac_data\n",
    "\n",
    "avg_weight_plac = weight_plac_data.groupby(\"Mouse ID\")['Weight (g)'].mean()\n",
    "avg_weight_plac\n",
    "\n",
    "avg_tumor_plac = weight_plac_data.groupby(\"Mouse ID\")[\"Tumor Volume (mm3)\"].mean()\n",
    "avg_tumor_plac\n",
    "\n",
    "#______\n",
    "\n",
    "correlation_capo = st.pearsonr(avg_weight_capo,avg_tumor_capo)\n",
    "print(f\"The Capomulin correlation between average tumor volume and mouse weight is {round(correlation_capo[0],2)}\")\n",
    "\n",
    "correlation_rami = st.pearsonr(avg_weight_rami,avg_tumor_rami)\n",
    "print(f\"The Ramicane correlation between average tumor volume and mouse weight is {round(correlation_rami[0],2)}\")\n",
    "\n",
    "correlation_ceft = st.pearsonr(avg_weight_ceft,avg_tumor_ceft)\n",
    "print(f\"The Ceftamin correlation between average tumor volume and mouse weight is {round(correlation_ceft[0],2)}\")\n",
    "\n",
    "correlation_infu = st.pearsonr(avg_weight_infu,avg_tumor_infu)\n",
    "print(f\"The Infubinol correlation between average tumor volume and mouse weight is {round(correlation_infu[0],2)}\")\n",
    "\n",
    "correlation_plac = st.pearsonr(avg_weight_plac,avg_tumor_plac)\n",
    "print(f\"The Placebo correlation between average tumor volume and mouse weight is {round(correlation_plac[0],2)}\")"
   ]
  },
  {
   "cell_type": "code",
   "execution_count": 38,
   "metadata": {},
   "outputs": [
    {
     "data": {
      "text/plain": [
       "l725    10\n",
       "j989    10\n",
       "c402    10\n",
       "p136    10\n",
       "v923    10\n",
       "        ..\n",
       "h428     1\n",
       "u153     1\n",
       "o848     1\n",
       "n482     1\n",
       "x336     1\n",
       "Name: Mouse ID, Length: 249, dtype: int64"
      ]
     },
     "execution_count": 38,
     "metadata": {},
     "output_type": "execute_result"
    }
   ],
   "source": [
    "# tumor_change_vsweight [average tumor vol at start] from [average tumor vol at end] groupby [drug] vs weight\n",
    "# tumor_change_vstime [average tumor vol at start] from [average tumor vol at end] groupby [drug] over time\n",
    "time_vs_weight = clean_df.drop(columns=['Sex', 'Age_months', 'Metastatic Sites'])\n",
    "time_vs_weight[\"Mouse ID\"].value_counts()"
   ]
  },
  {
   "cell_type": "code",
   "execution_count": 47,
   "metadata": {},
   "outputs": [
    {
     "name": "stdout",
     "output_type": "stream",
     "text": [
      "The correlation between average tumor volume and mouse weight is 0.66\n"
     ]
    },
    {
     "data": {
      "image/png": "[encoded data removed]",
      "text/plain": [
       "<Figure size 576x432 with 1 Axes>"
      ]
     },
     "metadata": {
      "needs_background": "light"
     },
     "output_type": "display_data"
    }
   ],
   "source": [
    "mouse_tvw = time_vs_weight.groupby(\"Mouse ID\")['Weight (g)'].mean()\n",
    "mouse_tvw\n",
    "\n",
    "mouse_tvt = time_vs_weight.groupby(\"Mouse ID\")[\"Tumor Volume (mm3)\"].mean()\n",
    "mouse_tvt\n",
    "\n",
    "\n",
    "fig = plt.figure(figsize =(8, 6))\n",
    "\n",
    "x_values = mouse_tvt\n",
    "y_values = mouse_tvw\n",
    "(slope, intercept, rvalue, pvalue, stderr) = linregress(x_values, y_values)\n",
    "regress_values = x_values * slope + intercept\n",
    "line_eq = \"y = \" + str(round(slope,2)) + \"x + \" + str(round(intercept,2))\n",
    "\n",
    "plt.scatter(x_values,y_values)\n",
    "plt.plot(x_values,regress_values,\"r-\")\n",
    "plt.annotate(line_eq,(6,10),fontsize=15,color=\"red\")\n",
    "plt.xlabel('Average Weight (g)')\n",
    "plt.ylabel(\"Average Tumor Volume (mm3)\")\n",
    "plt.title(\"Fig. 10: All Tumor Volumes vs. Mouse Weights Regression\")\n",
    "\n",
    "\n",
    "# Calculate the correlation coefficient for mouse weight and average tumor volume for the Capomulin regimen\n",
    "correlation_all = st.pearsonr(mouse_tvw,mouse_tvt)\n",
    "print(f\"The correlation between average tumor volume and mouse weight is {round(correlation_all[0],2)}\")"
   ]
  }
 ],
 "metadata": {
  "anaconda-cloud": {},
  "kernelspec": {
   "display_name": "Python 3",
   "language": "python",
   "name": "python3"
  },
  "language_info": {
   "codemirror_mode": {
    "name": "ipython",
    "version": 3
   },
   "file_extension": ".py",
   "mimetype": "text/x-python",
   "name": "python",
   "nbconvert_exporter": "python",
   "pygments_lexer": "ipython3",
   "version": "3.8.8"
  }
 },
 "nbformat": 4,
 "nbformat_minor": 4
}
